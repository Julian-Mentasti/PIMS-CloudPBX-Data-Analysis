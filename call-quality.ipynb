{
 "cells": [
  {
   "cell_type": "markdown",
   "metadata": {},
   "source": [
    "Assining Call Quality"
   ]
  },
  {
   "cell_type": "code",
   "execution_count": 17,
   "metadata": {},
   "outputs": [],
   "source": [
    "import pandas as pd\n",
    "import os\n",
    "import geoip2.database"
   ]
  },
  {
   "cell_type": "code",
   "execution_count": 18,
   "metadata": {},
   "outputs": [],
   "source": [
    "CSV_FILE_PATH = os.path.join('files-1-million.csv')\n",
    "CSV_FILE_PATH_1 = os.path.join('no-touch.csv')"
   ]
  },
  {
   "cell_type": "code",
   "execution_count": 19,
   "metadata": {},
   "outputs": [
    {
     "name": "stderr",
     "output_type": "stream",
     "text": [
      "/opt/conda/lib/python3.6/site-packages/IPython/core/interactiveshell.py:2785: DtypeWarning: Columns (14) have mixed types. Specify dtype option on import or set low_memory=False.\n",
      "  interactivity=interactivity, compiler=compiler, result=result)\n"
     ]
    }
   ],
   "source": [
    "df = pd.read_csv(CSV_FILE_PATH,delim_whitespace=True)\n",
    "da = pd.read_csv(CSV_FILE_PATH_1)"
   ]
  },
  {
   "cell_type": "code",
   "execution_count": 27,
   "metadata": {},
   "outputs": [
    {
     "data": {
      "text/plain": [
       "71483861  2018-03-15    3227975250\n",
       "71483875  2018-03-15    3227975250\n",
       "70783533  2018-03-09    3227975251\n",
       "70783546  2018-03-09    3227975251\n",
       "76384583  2018-05-03    1654599250\n",
       "65221709  2018-01-11    3227975251\n",
       "65221717  2018-01-11    3227975251\n",
       "65444938  2018-01-15    3227975250\n",
       "65444940  2018-01-15    3227975250\n",
       "65542553  2018-01-16    3227975250\n",
       "65542554  2018-01-16    3227975250\n",
       "65953969  2018-01-22    3227975251\n",
       "65953971  2018-01-22    3227975251\n",
       "66726793  2018-01-30    3227975251\n",
       "66726803  2018-01-30    3227975251\n",
       "66869906  2018-01-31    3227975251\n",
       "66869916  2018-01-31    3227975251\n",
       "67862897  2018-02-10    3227975251\n",
       "67862900  2018-02-10    3227975251\n",
       "67863140  2018-02-10    3227975250\n",
       "67863143  2018-02-10    3227975250\n",
       "67863809  2018-02-10    3227975251\n",
       "67863818  2018-02-10    3227975251\n",
       "68151852  2018-02-14    3227975250\n",
       "68151855  2018-02-14    3227975250\n",
       "68399653  2018-02-15    3227975251\n",
       "68399676  2018-02-15    3227975251\n",
       "68586073  2018-02-18    3227975251\n",
       "68586075  2018-02-18    3227975251\n",
       "68588244  2018-02-18    3227975251\n",
       "                           ...    \n",
       "75175177  2018-04-20    3227975506\n",
       "75175185  2018-04-20    3227975504\n",
       "75178511  2018-04-20    3227975507\n",
       "75178553  2018-04-20    3227975504\n",
       "75181545  2018-04-20    3227975507\n",
       "75181573  2018-04-20    3227975504\n",
       "75186388  2018-04-20    3227975504\n",
       "75186423  2018-04-20    3227975506\n",
       "75187304  2018-04-20    3227975504\n",
       "75187326  2018-04-20    3227975507\n",
       "75188438  2018-04-20    3227975504\n",
       "75188451  2018-04-20    3227975507\n",
       "75189696  2018-04-20    3227975506\n",
       "75189737  2018-04-20    3227975504\n",
       "75190344  2018-04-20    3227975504\n",
       "75190378  2018-04-20    3227975507\n",
       "75190856  2018-04-20    3227975504\n",
       "75190897  2018-04-20    3227975507\n",
       "75193338  2018-04-20    3227975507\n",
       "75193362  2018-04-20    3227975504\n",
       "75193889  2018-04-20    3227975504\n",
       "75193921  2018-04-20    3227975506\n",
       "75197095  2018-04-20    3227975506\n",
       "75197111  2018-04-20    3227975504\n",
       "75199835  2018-04-20    3227975504\n",
       "75199851  2018-04-20    3227975507\n",
       "75204889  2018-04-20    3227975504\n",
       "75204902  2018-04-20    3227975506\n",
       "75204963  2018-04-20    3227975507\n",
       "75204977  2018-04-20    3227975504\n",
       "Name: sipcallerip, Length: 1000000, dtype: int64"
      ]
     },
     "execution_count": 27,
     "metadata": {},
     "output_type": "execute_result"
    }
   ],
   "source": [
    "df['sipcallerip']"
   ]
  },
  {
   "cell_type": "code",
   "execution_count": 24,
   "metadata": {},
   "outputs": [
    {
     "data": {
      "text/plain": [
       "20"
      ]
     },
     "execution_count": 24,
     "metadata": {},
     "output_type": "execute_result"
    }
   ],
   "source": [
    "len(set(df['sipcallerip']))"
   ]
  },
  {
   "cell_type": "code",
   "execution_count": 23,
   "metadata": {},
   "outputs": [
    {
     "data": {
      "text/plain": [
       "183"
      ]
     },
     "execution_count": 23,
     "metadata": {},
     "output_type": "execute_result"
    }
   ],
   "source": [
    "len(set(da['sipcallerip']))"
   ]
  },
  {
   "cell_type": "markdown",
   "metadata": {},
   "source": [
    "d_final = df[(df[\"a_sl1\"] >= 0 ) & (df[\"a_sl2\"] >= 0 ) & (df[\"a_sl3\"] >= 0 ) & (df[\"a_sl4\"] >= 0 ) & (df[\"a_sl5\"] >= 0 ) & \n",
    "             (df[\"a_sl6\"] >= 0 ) & (df[\"a_sl7\"] >= 0 ) & (df[\"a_sl8\"] >= 0 ) & (df[\"a_sl8\"] >= 0 ) &\n",
    "             (df[\"b_sl1\"] >= 0 ) & (df[\"b_sl2\"] >= 0 ) & (df[\"b_sl3\"] >= 0 ) & (df[\"b_sl4\"] >= 0 ) & (df[\"b_sl5\"] >= 0 ) & \n",
    "             (df[\"b_sl6\"] >= 0 ) & (df[\"b_sl7\"] >= 0 ) & (df[\"b_sl8\"] >= 0 ) & (df[\"b_sl9\"] >= 0 )]"
   ]
  },
  {
   "cell_type": "markdown",
   "metadata": {},
   "source": [
    "df.shape"
   ]
  },
  {
   "cell_type": "markdown",
   "metadata": {},
   "source": [
    "da.shape"
   ]
  },
  {
   "cell_type": "markdown",
   "metadata": {},
   "source": [
    "df[~df.isin(da)].dropna()"
   ]
  },
  {
   "cell_type": "markdown",
   "metadata": {
    "scrolled": true
   },
   "source": [
    "df.shape"
   ]
  },
  {
   "cell_type": "markdown",
   "metadata": {},
   "source": [
    "df['Qualfun'].mean()"
   ]
  },
  {
   "cell_type": "markdown",
   "metadata": {},
   "source": [
    "filter1 = df[\"a_mos_f1_mult10\"] <= 4\n",
    "da = df[filter1]"
   ]
  },
  {
   "cell_type": "markdown",
   "metadata": {},
   "source": [
    "da.shape"
   ]
  },
  {
   "cell_type": "code",
   "execution_count": null,
   "metadata": {},
   "outputs": [],
   "source": [
    "def evaluaterow(a1, a2, a3, a4, a5, a6, a7, a8, a9, a10, b1, b2, b3, b4, b5, b6, b7, b8, b9, b10, a_delay_sum, b_delay_sum, connect_duration):\n",
    "\n",
    "    a_top_sum = get_top_sum(a1, a2, a3, a4, a5, a6, a7, a8, a9, a10, a_delay_sum)\n",
    "    b_top_sum = get_top_sum(b1, b2, b3, b4, b5, b6, b7, b8, b9, b10, b_delay_sum)\n",
    "    \n",
    "    a_bot_sum = get_top_sum(a1, a2, a3, a4, a5, a6, a7, a8, a9, a10, connect_duration)\n",
    "    b_bot_sum = get_top_sum(b1, b2, b3, b4, b5, b6, b7, b8, b9, b10, connect_duration)\n",
    "    \n",
    "    sum_a = a_top_sum/a_bot_sum\n",
    "    sum_b = b_top_sum/b_bot_sum\n",
    "    \n",
    "    total_sum = (sum_a+sum_b)/2 \n",
    "    return total_sum\n",
    "    \n",
    "def get_top_sum(a1, a2, a3, a4, a5, a6, a7, a8, a9, a10, delay_sum):\n",
    "    top_sum = 0\n",
    "    n = 1\n",
    "    w1 = 1\n",
    "    w2 = 1\n",
    "    w3 = 1\n",
    "    w4 = 1\n",
    "    w5 = 1\n",
    "    w6 = 1\n",
    "    w7 = 1\n",
    "    w8 = 1\n",
    "    w9 = 1\n",
    "    w10 = 1\n",
    "    \n",
    "    top_sum += 20*n*(a1)*w1\n",
    "    n += 1\n",
    "    top_sum += 20*n*(a2)*w2\n",
    "    n += 1\n",
    "    top_sum += 20*n*(a3)*w3\n",
    "    n += 1\n",
    "    top_sum += 20*n*(a4)*w4\n",
    "    n +=1\n",
    "    top_sum += 20*n*(a5)*w5\n",
    "    n += 1\n",
    "    top_sum += 20*n*(a6)*w6\n",
    "    n += 1\n",
    "    top_sum += 20*n*(a7)*w7\n",
    "    n +=1\n",
    "    top_sum += 20*n*(a8)*w8\n",
    "    n += 1\n",
    "    top_sum += 20*n*(a9)*w9\n",
    "    n += 1\n",
    "    top_sum += 20*n*(a10)*w10\n",
    "    \n",
    "    return(top_sum + delay_sum)\n",
    "\n",
    "def get_bot_sum(a1, a2, a3, a4, a5, a6, a7, a8, a9, a10, connect_duration):\n",
    "    \n",
    "    bot_sum = 0\n",
    "    n = 1\n",
    "    w1 = 1\n",
    "    w2 = 1\n",
    "    w3 = 1\n",
    "    w4 = 1\n",
    "    w5 = 1\n",
    "    w6 = 1\n",
    "    w7 = 1\n",
    "    w8 = 1\n",
    "    w9 = 1\n",
    "    w10 = 1\n",
    "    \n",
    "    bot_sum += 20*n*(a1)*(1-w1)\n",
    "    n += 1\n",
    "    bot_sum += 20*n*(a2)*(1-w2)\n",
    "    n += 1\n",
    "    bot_sum += 20*n*(a3)*(1-w3)\n",
    "    n += 1\n",
    "    bot_sum += 20*n*(a4)*(1-w4)\n",
    "    n +=1\n",
    "    bot_sum += 20*n*(a5)*(1-w5)\n",
    "    n += 1\n",
    "    bot_sum += 20*n*(a6)*(1-w6)\n",
    "    n += 1\n",
    "    bot_sum += 20*n*(a7)*(1-w7)\n",
    "    n +=1\n",
    "    bot_sum += 20*n*(a8)*(1-w8)\n",
    "    n += 1\n",
    "    bot_sum += 20*n*(a9)*(1-w9)\n",
    "    n += 1\n",
    "    bot_sum += 20*n*(a10)*(1-w10)\n",
    "    \n",
    "    return(bot_sum + connect_duration)\n",
    "    \n"
   ]
  },
  {
   "cell_type": "code",
   "execution_count": null,
   "metadata": {},
   "outputs": [],
   "source": [
    "df['Qualfun'] = df.apply(lambda df: pd.Series(evaluaterow(df['a_sl1'],df['a_sl2'],df['a_sl3'],df['a_sl4'],df['a_sl5'],df['a_sl6'],df['a_sl7'],df['a_sl8'],df['a_sl9'],df['a_sl10'],df['b_sl1'],df['b_sl2'],df['b_sl3'],df['b_sl4'],df['b_sl5'],df['b_sl6'],df['b_sl7'],df['b_sl8'],df['b_sl9'],df['b_sl10'],df['a_delay_sum'],df['b_delay_sum'],df['duration'])), axis=1)"
   ]
  },
  {
   "cell_type": "code",
   "execution_count": null,
   "metadata": {},
   "outputs": [],
   "source": []
  },
  {
   "cell_type": "code",
   "execution_count": 9,
   "metadata": {},
   "outputs": [],
   "source": [
    "import ipaddress"
   ]
  },
  {
   "cell_type": "code",
   "execution_count": 10,
   "metadata": {},
   "outputs": [],
   "source": [
    "GEOLITE_DB_PATH = os.path.join('GeoLite2-City.mmdb')"
   ]
  },
  {
   "cell_type": "code",
   "execution_count": 11,
   "metadata": {},
   "outputs": [],
   "source": [
    "def toIP(x):\n",
    "    return str(ipaddress.ip_address(x))\n",
    "\n",
    "df['ipaddr_caller'] = df[\"sipcallerip\"].apply(toIP)\n",
    "df['ipaddr_called'] = df[\"sipcalledip\"].apply(toIP)"
   ]
  },
  {
   "cell_type": "code",
   "execution_count": 12,
   "metadata": {},
   "outputs": [],
   "source": [
    "GEOLITE_ASN_PATH = os.path.join('GeoLite2-ASN.mmdb')"
   ]
  },
  {
   "cell_type": "code",
   "execution_count": 13,
   "metadata": {},
   "outputs": [],
   "source": [
    "readerASN = geoip2.database.Reader(GEOLITE_ASN_PATH)"
   ]
  },
  {
   "cell_type": "code",
   "execution_count": 14,
   "metadata": {},
   "outputs": [],
   "source": [
    "def getASobject(x):\n",
    "    return readerASN.asn(str(ipaddress.ip_address(x)))\n",
    "def getCityobject(x):\n",
    "    return readerASN.asn(str(ipaddress.ip_address(x)))\n",
    "def getASN(x):\n",
    "    return x.autonomous_system_number\n",
    "def getASorg(x):\n",
    "    return x.autonomous_system_organization\n",
    "def getInt(x):\n",
    "    return int(x)"
   ]
  },
  {
   "cell_type": "code",
   "execution_count": 15,
   "metadata": {},
   "outputs": [],
   "source": [
    "V = df['sipcallerip'].apply(getASobject)\n",
    "# adding columns to the data frame\n",
    "df['sipcallerasn'] = V.apply(getASN)\n",
    "df['sipcallerasorg'] = V.apply(getASorg)"
   ]
  },
  {
   "cell_type": "code",
   "execution_count": 16,
   "metadata": {},
   "outputs": [
    {
     "ename": "KeyboardInterrupt",
     "evalue": "",
     "output_type": "error",
     "traceback": [
      "\u001b[0;31m---------------------------------------------------------------------------\u001b[0m",
      "\u001b[0;31mKeyboardInterrupt\u001b[0m                         Traceback (most recent call last)",
      "\u001b[0;32m<ipython-input-16-eaf48cf50b24>\u001b[0m in \u001b[0;36m<module>\u001b[0;34m()\u001b[0m\n\u001b[0;32m----> 1\u001b[0;31m \u001b[0mV\u001b[0m \u001b[0;34m=\u001b[0m \u001b[0mdf\u001b[0m\u001b[0;34m[\u001b[0m\u001b[0;34m'sipcalledip'\u001b[0m\u001b[0;34m]\u001b[0m\u001b[0;34m.\u001b[0m\u001b[0mapply\u001b[0m\u001b[0;34m(\u001b[0m\u001b[0mgetASobject\u001b[0m\u001b[0;34m)\u001b[0m\u001b[0;34m\u001b[0m\u001b[0m\n\u001b[0m\u001b[1;32m      2\u001b[0m \u001b[0;31m# adding columns to the data frame\u001b[0m\u001b[0;34m\u001b[0m\u001b[0;34m\u001b[0m\u001b[0m\n\u001b[1;32m      3\u001b[0m \u001b[0mdf\u001b[0m\u001b[0;34m[\u001b[0m\u001b[0;34m'sipcalledasn'\u001b[0m\u001b[0;34m]\u001b[0m \u001b[0;34m=\u001b[0m \u001b[0mV\u001b[0m\u001b[0;34m.\u001b[0m\u001b[0mapply\u001b[0m\u001b[0;34m(\u001b[0m\u001b[0mgetASN\u001b[0m\u001b[0;34m)\u001b[0m\u001b[0;34m\u001b[0m\u001b[0m\n\u001b[1;32m      4\u001b[0m \u001b[0mdf\u001b[0m\u001b[0;34m[\u001b[0m\u001b[0;34m'sipcalledasorg'\u001b[0m\u001b[0;34m]\u001b[0m \u001b[0;34m=\u001b[0m \u001b[0mV\u001b[0m\u001b[0;34m.\u001b[0m\u001b[0mapply\u001b[0m\u001b[0;34m(\u001b[0m\u001b[0mgetASorg\u001b[0m\u001b[0;34m)\u001b[0m\u001b[0;34m\u001b[0m\u001b[0m\n\u001b[1;32m      5\u001b[0m \u001b[0mV\u001b[0m \u001b[0;34m=\u001b[0m \u001b[0mdf\u001b[0m\u001b[0;34m[\u001b[0m\u001b[0;34m'a_saddr'\u001b[0m\u001b[0;34m]\u001b[0m\u001b[0;34m.\u001b[0m\u001b[0mapply\u001b[0m\u001b[0;34m(\u001b[0m\u001b[0mgetInt\u001b[0m\u001b[0;34m)\u001b[0m\u001b[0;34m.\u001b[0m\u001b[0mapply\u001b[0m\u001b[0;34m(\u001b[0m\u001b[0mgetASobject\u001b[0m\u001b[0;34m)\u001b[0m\u001b[0;34m\u001b[0m\u001b[0m\n",
      "\u001b[0;32m/opt/conda/lib/python3.6/site-packages/pandas/core/series.py\u001b[0m in \u001b[0;36mapply\u001b[0;34m(self, func, convert_dtype, args, **kwds)\u001b[0m\n\u001b[1;32m   2549\u001b[0m             \u001b[0;32melse\u001b[0m\u001b[0;34m:\u001b[0m\u001b[0;34m\u001b[0m\u001b[0m\n\u001b[1;32m   2550\u001b[0m                 \u001b[0mvalues\u001b[0m \u001b[0;34m=\u001b[0m \u001b[0mself\u001b[0m\u001b[0;34m.\u001b[0m\u001b[0masobject\u001b[0m\u001b[0;34m\u001b[0m\u001b[0m\n\u001b[0;32m-> 2551\u001b[0;31m                 \u001b[0mmapped\u001b[0m \u001b[0;34m=\u001b[0m \u001b[0mlib\u001b[0m\u001b[0;34m.\u001b[0m\u001b[0mmap_infer\u001b[0m\u001b[0;34m(\u001b[0m\u001b[0mvalues\u001b[0m\u001b[0;34m,\u001b[0m \u001b[0mf\u001b[0m\u001b[0;34m,\u001b[0m \u001b[0mconvert\u001b[0m\u001b[0;34m=\u001b[0m\u001b[0mconvert_dtype\u001b[0m\u001b[0;34m)\u001b[0m\u001b[0;34m\u001b[0m\u001b[0m\n\u001b[0m\u001b[1;32m   2552\u001b[0m \u001b[0;34m\u001b[0m\u001b[0m\n\u001b[1;32m   2553\u001b[0m         \u001b[0;32mif\u001b[0m \u001b[0mlen\u001b[0m\u001b[0;34m(\u001b[0m\u001b[0mmapped\u001b[0m\u001b[0;34m)\u001b[0m \u001b[0;32mand\u001b[0m \u001b[0misinstance\u001b[0m\u001b[0;34m(\u001b[0m\u001b[0mmapped\u001b[0m\u001b[0;34m[\u001b[0m\u001b[0;36m0\u001b[0m\u001b[0;34m]\u001b[0m\u001b[0;34m,\u001b[0m \u001b[0mSeries\u001b[0m\u001b[0;34m)\u001b[0m\u001b[0;34m:\u001b[0m\u001b[0;34m\u001b[0m\u001b[0m\n",
      "\u001b[0;32mpandas/_libs/src/inference.pyx\u001b[0m in \u001b[0;36mpandas._libs.lib.map_infer\u001b[0;34m()\u001b[0m\n",
      "\u001b[0;32m<ipython-input-14-f55adac924db>\u001b[0m in \u001b[0;36mgetASobject\u001b[0;34m(x)\u001b[0m\n\u001b[1;32m      1\u001b[0m \u001b[0;32mdef\u001b[0m \u001b[0mgetASobject\u001b[0m\u001b[0;34m(\u001b[0m\u001b[0mx\u001b[0m\u001b[0;34m)\u001b[0m\u001b[0;34m:\u001b[0m\u001b[0;34m\u001b[0m\u001b[0m\n\u001b[0;32m----> 2\u001b[0;31m     \u001b[0;32mreturn\u001b[0m \u001b[0mreaderASN\u001b[0m\u001b[0;34m.\u001b[0m\u001b[0masn\u001b[0m\u001b[0;34m(\u001b[0m\u001b[0mstr\u001b[0m\u001b[0;34m(\u001b[0m\u001b[0mipaddress\u001b[0m\u001b[0;34m.\u001b[0m\u001b[0mip_address\u001b[0m\u001b[0;34m(\u001b[0m\u001b[0mx\u001b[0m\u001b[0;34m)\u001b[0m\u001b[0;34m)\u001b[0m\u001b[0;34m)\u001b[0m\u001b[0;34m\u001b[0m\u001b[0m\n\u001b[0m\u001b[1;32m      3\u001b[0m \u001b[0;32mdef\u001b[0m \u001b[0mgetCityobject\u001b[0m\u001b[0;34m(\u001b[0m\u001b[0mx\u001b[0m\u001b[0;34m)\u001b[0m\u001b[0;34m:\u001b[0m\u001b[0;34m\u001b[0m\u001b[0m\n\u001b[1;32m      4\u001b[0m     \u001b[0;32mreturn\u001b[0m \u001b[0mreaderASN\u001b[0m\u001b[0;34m.\u001b[0m\u001b[0masn\u001b[0m\u001b[0;34m(\u001b[0m\u001b[0mstr\u001b[0m\u001b[0;34m(\u001b[0m\u001b[0mipaddress\u001b[0m\u001b[0;34m.\u001b[0m\u001b[0mip_address\u001b[0m\u001b[0;34m(\u001b[0m\u001b[0mx\u001b[0m\u001b[0;34m)\u001b[0m\u001b[0;34m)\u001b[0m\u001b[0;34m)\u001b[0m\u001b[0;34m\u001b[0m\u001b[0m\n\u001b[1;32m      5\u001b[0m \u001b[0;32mdef\u001b[0m \u001b[0mgetASN\u001b[0m\u001b[0;34m(\u001b[0m\u001b[0mx\u001b[0m\u001b[0;34m)\u001b[0m\u001b[0;34m:\u001b[0m\u001b[0;34m\u001b[0m\u001b[0m\n",
      "\u001b[0;32m~/.local/lib/python3.6/site-packages/geoip2/database.py\u001b[0m in \u001b[0;36masn\u001b[0;34m(self, ip_address)\u001b[0m\n\u001b[1;32m    134\u001b[0m         \"\"\"\n\u001b[1;32m    135\u001b[0m         return self._flat_model_for(geoip2.models.ASN, 'GeoLite2-ASN',\n\u001b[0;32m--> 136\u001b[0;31m                                     ip_address)\n\u001b[0m\u001b[1;32m    137\u001b[0m \u001b[0;34m\u001b[0m\u001b[0m\n\u001b[1;32m    138\u001b[0m     \u001b[0;32mdef\u001b[0m \u001b[0mconnection_type\u001b[0m\u001b[0;34m(\u001b[0m\u001b[0mself\u001b[0m\u001b[0;34m,\u001b[0m \u001b[0mip_address\u001b[0m\u001b[0;34m)\u001b[0m\u001b[0;34m:\u001b[0m\u001b[0;34m\u001b[0m\u001b[0m\n",
      "\u001b[0;32m~/.local/lib/python3.6/site-packages/geoip2/database.py\u001b[0m in \u001b[0;36m_flat_model_for\u001b[0;34m(self, model_class, types, ip_address)\u001b[0m\n\u001b[1;32m    198\u001b[0m \u001b[0;34m\u001b[0m\u001b[0m\n\u001b[1;32m    199\u001b[0m     \u001b[0;32mdef\u001b[0m \u001b[0m_flat_model_for\u001b[0m\u001b[0;34m(\u001b[0m\u001b[0mself\u001b[0m\u001b[0;34m,\u001b[0m \u001b[0mmodel_class\u001b[0m\u001b[0;34m,\u001b[0m \u001b[0mtypes\u001b[0m\u001b[0;34m,\u001b[0m \u001b[0mip_address\u001b[0m\u001b[0;34m)\u001b[0m\u001b[0;34m:\u001b[0m\u001b[0;34m\u001b[0m\u001b[0m\n\u001b[0;32m--> 200\u001b[0;31m         \u001b[0mrecord\u001b[0m \u001b[0;34m=\u001b[0m \u001b[0mself\u001b[0m\u001b[0;34m.\u001b[0m\u001b[0m_get\u001b[0m\u001b[0;34m(\u001b[0m\u001b[0mtypes\u001b[0m\u001b[0;34m,\u001b[0m \u001b[0mip_address\u001b[0m\u001b[0;34m)\u001b[0m\u001b[0;34m\u001b[0m\u001b[0m\n\u001b[0m\u001b[1;32m    201\u001b[0m         \u001b[0mrecord\u001b[0m\u001b[0;34m[\u001b[0m\u001b[0;34m'ip_address'\u001b[0m\u001b[0;34m]\u001b[0m \u001b[0;34m=\u001b[0m \u001b[0mip_address\u001b[0m\u001b[0;34m\u001b[0m\u001b[0m\n\u001b[1;32m    202\u001b[0m         \u001b[0;32mreturn\u001b[0m \u001b[0mmodel_class\u001b[0m\u001b[0;34m(\u001b[0m\u001b[0mrecord\u001b[0m\u001b[0;34m)\u001b[0m\u001b[0;34m\u001b[0m\u001b[0m\n",
      "\u001b[0;32m~/.local/lib/python3.6/site-packages/geoip2/database.py\u001b[0m in \u001b[0;36m_get\u001b[0;34m(self, database_type, ip_address)\u001b[0m\n\u001b[1;32m    186\u001b[0m                             \"%s database\" % (caller,\n\u001b[1;32m    187\u001b[0m                                              self.metadata().database_type))\n\u001b[0;32m--> 188\u001b[0;31m         \u001b[0mrecord\u001b[0m \u001b[0;34m=\u001b[0m \u001b[0mself\u001b[0m\u001b[0;34m.\u001b[0m\u001b[0m_db_reader\u001b[0m\u001b[0;34m.\u001b[0m\u001b[0mget\u001b[0m\u001b[0;34m(\u001b[0m\u001b[0mip_address\u001b[0m\u001b[0;34m)\u001b[0m\u001b[0;34m\u001b[0m\u001b[0m\n\u001b[0m\u001b[1;32m    189\u001b[0m         \u001b[0;32mif\u001b[0m \u001b[0mrecord\u001b[0m \u001b[0;32mis\u001b[0m \u001b[0;32mNone\u001b[0m\u001b[0;34m:\u001b[0m\u001b[0;34m\u001b[0m\u001b[0m\n\u001b[1;32m    190\u001b[0m             raise geoip2.errors.AddressNotFoundError(\n",
      "\u001b[0;32m~/.local/lib/python3.6/site-packages/maxminddb/reader.py\u001b[0m in \u001b[0;36mget\u001b[0;34m(self, ip_address)\u001b[0m\n\u001b[1;32m    116\u001b[0m         \u001b[0mpointer\u001b[0m \u001b[0;34m=\u001b[0m \u001b[0mself\u001b[0m\u001b[0;34m.\u001b[0m\u001b[0m_find_address_in_tree\u001b[0m\u001b[0;34m(\u001b[0m\u001b[0maddress\u001b[0m\u001b[0;34m)\u001b[0m\u001b[0;34m\u001b[0m\u001b[0m\n\u001b[1;32m    117\u001b[0m \u001b[0;34m\u001b[0m\u001b[0m\n\u001b[0;32m--> 118\u001b[0;31m         \u001b[0;32mreturn\u001b[0m \u001b[0mself\u001b[0m\u001b[0;34m.\u001b[0m\u001b[0m_resolve_data_pointer\u001b[0m\u001b[0;34m(\u001b[0m\u001b[0mpointer\u001b[0m\u001b[0;34m)\u001b[0m \u001b[0;32mif\u001b[0m \u001b[0mpointer\u001b[0m \u001b[0;32melse\u001b[0m \u001b[0;32mNone\u001b[0m\u001b[0;34m\u001b[0m\u001b[0m\n\u001b[0m\u001b[1;32m    119\u001b[0m \u001b[0;34m\u001b[0m\u001b[0m\n\u001b[1;32m    120\u001b[0m     \u001b[0;32mdef\u001b[0m \u001b[0m_find_address_in_tree\u001b[0m\u001b[0;34m(\u001b[0m\u001b[0mself\u001b[0m\u001b[0;34m,\u001b[0m \u001b[0mip_address\u001b[0m\u001b[0;34m)\u001b[0m\u001b[0;34m:\u001b[0m\u001b[0;34m\u001b[0m\u001b[0m\n",
      "\u001b[0;32m~/.local/lib/python3.6/site-packages/maxminddb/reader.py\u001b[0m in \u001b[0;36m_resolve_data_pointer\u001b[0;34m(self, pointer)\u001b[0m\n\u001b[1;32m    186\u001b[0m                 \"The MaxMind DB file's search tree is corrupt\")\n\u001b[1;32m    187\u001b[0m \u001b[0;34m\u001b[0m\u001b[0m\n\u001b[0;32m--> 188\u001b[0;31m         \u001b[0;34m(\u001b[0m\u001b[0mdata\u001b[0m\u001b[0;34m,\u001b[0m \u001b[0m_\u001b[0m\u001b[0;34m)\u001b[0m \u001b[0;34m=\u001b[0m \u001b[0mself\u001b[0m\u001b[0;34m.\u001b[0m\u001b[0m_decoder\u001b[0m\u001b[0;34m.\u001b[0m\u001b[0mdecode\u001b[0m\u001b[0;34m(\u001b[0m\u001b[0mresolved\u001b[0m\u001b[0;34m)\u001b[0m\u001b[0;34m\u001b[0m\u001b[0m\n\u001b[0m\u001b[1;32m    189\u001b[0m         \u001b[0;32mreturn\u001b[0m \u001b[0mdata\u001b[0m\u001b[0;34m\u001b[0m\u001b[0m\n\u001b[1;32m    190\u001b[0m \u001b[0;34m\u001b[0m\u001b[0m\n",
      "\u001b[0;32m~/.local/lib/python3.6/site-packages/maxminddb/decoder.py\u001b[0m in \u001b[0;36mdecode\u001b[0;34m(self, offset)\u001b[0m\n\u001b[1;32m    133\u001b[0m         (size, new_offset) = self._size_from_ctrl_byte(ctrl_byte, new_offset,\n\u001b[1;32m    134\u001b[0m                                                        type_num)\n\u001b[0;32m--> 135\u001b[0;31m         \u001b[0;32mreturn\u001b[0m \u001b[0mself\u001b[0m\u001b[0;34m.\u001b[0m\u001b[0m_type_decoder\u001b[0m\u001b[0;34m[\u001b[0m\u001b[0mtype_num\u001b[0m\u001b[0;34m]\u001b[0m\u001b[0;34m(\u001b[0m\u001b[0mself\u001b[0m\u001b[0;34m,\u001b[0m \u001b[0msize\u001b[0m\u001b[0;34m,\u001b[0m \u001b[0mnew_offset\u001b[0m\u001b[0;34m)\u001b[0m\u001b[0;34m\u001b[0m\u001b[0m\n\u001b[0m\u001b[1;32m    136\u001b[0m \u001b[0;34m\u001b[0m\u001b[0m\n\u001b[1;32m    137\u001b[0m     \u001b[0;32mdef\u001b[0m \u001b[0m_read_extended\u001b[0m\u001b[0;34m(\u001b[0m\u001b[0mself\u001b[0m\u001b[0;34m,\u001b[0m \u001b[0moffset\u001b[0m\u001b[0;34m)\u001b[0m\u001b[0;34m:\u001b[0m\u001b[0;34m\u001b[0m\u001b[0m\n",
      "\u001b[0;32m~/.local/lib/python3.6/site-packages/maxminddb/decoder.py\u001b[0m in \u001b[0;36m_decode_map\u001b[0;34m(self, size, offset)\u001b[0m\n\u001b[1;32m     63\u001b[0m         \u001b[0mcontainer\u001b[0m \u001b[0;34m=\u001b[0m \u001b[0;34m{\u001b[0m\u001b[0;34m}\u001b[0m\u001b[0;34m\u001b[0m\u001b[0m\n\u001b[1;32m     64\u001b[0m         \u001b[0;32mfor\u001b[0m \u001b[0m_\u001b[0m \u001b[0;32min\u001b[0m \u001b[0mrange\u001b[0m\u001b[0;34m(\u001b[0m\u001b[0msize\u001b[0m\u001b[0;34m)\u001b[0m\u001b[0;34m:\u001b[0m\u001b[0;34m\u001b[0m\u001b[0m\n\u001b[0;32m---> 65\u001b[0;31m             \u001b[0;34m(\u001b[0m\u001b[0mkey\u001b[0m\u001b[0;34m,\u001b[0m \u001b[0moffset\u001b[0m\u001b[0;34m)\u001b[0m \u001b[0;34m=\u001b[0m \u001b[0mself\u001b[0m\u001b[0;34m.\u001b[0m\u001b[0mdecode\u001b[0m\u001b[0;34m(\u001b[0m\u001b[0moffset\u001b[0m\u001b[0;34m)\u001b[0m\u001b[0;34m\u001b[0m\u001b[0m\n\u001b[0m\u001b[1;32m     66\u001b[0m             \u001b[0;34m(\u001b[0m\u001b[0mvalue\u001b[0m\u001b[0;34m,\u001b[0m \u001b[0moffset\u001b[0m\u001b[0;34m)\u001b[0m \u001b[0;34m=\u001b[0m \u001b[0mself\u001b[0m\u001b[0;34m.\u001b[0m\u001b[0mdecode\u001b[0m\u001b[0;34m(\u001b[0m\u001b[0moffset\u001b[0m\u001b[0;34m)\u001b[0m\u001b[0;34m\u001b[0m\u001b[0m\n\u001b[1;32m     67\u001b[0m             \u001b[0mcontainer\u001b[0m\u001b[0;34m[\u001b[0m\u001b[0mkey\u001b[0m\u001b[0;34m]\u001b[0m \u001b[0;34m=\u001b[0m \u001b[0mvalue\u001b[0m\u001b[0;34m\u001b[0m\u001b[0m\n",
      "\u001b[0;32m~/.local/lib/python3.6/site-packages/maxminddb/decoder.py\u001b[0m in \u001b[0;36mdecode\u001b[0;34m(self, offset)\u001b[0m\n\u001b[1;32m    132\u001b[0m \u001b[0;34m\u001b[0m\u001b[0m\n\u001b[1;32m    133\u001b[0m         (size, new_offset) = self._size_from_ctrl_byte(ctrl_byte, new_offset,\n\u001b[0;32m--> 134\u001b[0;31m                                                        type_num)\n\u001b[0m\u001b[1;32m    135\u001b[0m         \u001b[0;32mreturn\u001b[0m \u001b[0mself\u001b[0m\u001b[0;34m.\u001b[0m\u001b[0m_type_decoder\u001b[0m\u001b[0;34m[\u001b[0m\u001b[0mtype_num\u001b[0m\u001b[0;34m]\u001b[0m\u001b[0;34m(\u001b[0m\u001b[0mself\u001b[0m\u001b[0;34m,\u001b[0m \u001b[0msize\u001b[0m\u001b[0;34m,\u001b[0m \u001b[0mnew_offset\u001b[0m\u001b[0;34m)\u001b[0m\u001b[0;34m\u001b[0m\u001b[0m\n\u001b[1;32m    136\u001b[0m \u001b[0;34m\u001b[0m\u001b[0m\n",
      "\u001b[0;31mKeyboardInterrupt\u001b[0m: "
     ]
    }
   ],
   "source": [
    "V = df['sipcalledip'].apply(getASobject)\n",
    "# adding columns to the data frame\n",
    "df['sipcalledasn'] = V.apply(getASN)\n",
    "df['sipcalledasorg'] = V.apply(getASorg)\n",
    "V = df['a_saddr'].apply(getInt).apply(getASobject)\n",
    "# adding columns to the data frame\n",
    "df['a_saddr_asn'] = V.apply(getASN)\n",
    "df['a_saddr_asorg'] = V.apply(getASorg)"
   ]
  },
  {
   "cell_type": "code",
   "execution_count": null,
   "metadata": {},
   "outputs": [],
   "source": [
    "ser = pd.Series(df['sipcallerasorg'])"
   ]
  },
  {
   "cell_type": "code",
   "execution_count": 50,
   "metadata": {},
   "outputs": [
    {
     "data": {
      "text/plain": [
       "{'CloudPBX', 'Shaw Communications Inc.'}"
      ]
     },
     "execution_count": 50,
     "metadata": {},
     "output_type": "execute_result"
    }
   ],
   "source": [
    "set(ser)"
   ]
  },
  {
   "cell_type": "code",
   "execution_count": null,
   "metadata": {},
   "outputs": [],
   "source": []
  }
 ],
 "metadata": {
  "kernelspec": {
   "display_name": "Python 3",
   "language": "python",
   "name": "python3"
  },
  "language_info": {
   "codemirror_mode": {
    "name": "ipython",
    "version": 3
   },
   "file_extension": ".py",
   "mimetype": "text/x-python",
   "name": "python",
   "nbconvert_exporter": "python",
   "pygments_lexer": "ipython3",
   "version": "3.6.5"
  }
 },
 "nbformat": 4,
 "nbformat_minor": 2
}
