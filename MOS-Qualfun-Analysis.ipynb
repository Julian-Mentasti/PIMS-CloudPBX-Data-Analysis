{
 "cells": [
  {
   "cell_type": "code",
   "execution_count": 1,
   "metadata": {},
   "outputs": [],
   "source": [
    "import pandas as pd\n",
    "import numpy as np\n",
    "import os\n",
    "import matplotlib.pyplot as plt\n",
    "from sklearn.metrics import *\n",
    "plt.clf()\n",
    "CSV_FILE_PATH_1 = os.path.join('new-untouched.csv')"
   ]
  },
  {
   "cell_type": "code",
   "execution_count": 2,
   "metadata": {},
   "outputs": [],
   "source": [
    "HEADER = [\"ID\",\"calldate\",\"callend\",\"duration\",\"connect_duration\",\"progress_time\",\"first_rtp_time\",\"caller\",\n",
    "          \"caller_domain\",\"caller_reverse\",\"callername\",\"callername_reverse\",\"called\",\"called_domain\",\"called_reverse\",\n",
    "          \"sipcallerip\",\"sipcallerport\",\"sipcalledip\",\"sipcalledport\",\"whohanged\",\"bye\",\"lastSIPresponse_id\",\n",
    "          \"lastSIPresponseNum\",\"sighup\",\"dscp\",\"a_index\",\"b_index\",\"a_payload\",\"b_payload\",\"a_saddr\",\"b_saddr\",\n",
    "          \"a_received\",\"b_received\",\"a_lost\",\"b_lost\",\"a_ua_id\",\"b_ua_id\",\"a_avgjitter_mult10\",\"b_avgjitter_mult10\",\n",
    "          \"a_maxjitter\",\"b_maxjitter\",\"a_sl1\",\"a_sl2\",\"a_sl3\",\"a_sl4\",\"a_sl5\",\"a_sl6\",\"a_sl7\",\"a_sl8\",\"a_sl9\",\"a_sl10\",\n",
    "          \"a_d50\",\"a_d70\",\"a_d90\",\"a_d120\",\"a_d150\",\"a_d200\",\"a_d300\",\"b_sl1\",\"b_sl2\",\"b_sl3\",\"b_sl4\",\"b_sl5\",\"b_sl6\",\"b_sl7\",\n",
    "          \"b_sl8\",\"b_sl9\",\"b_sl10\",\"b_d50\",\"b_d70\",\"b_d90\",\"b_d120\",\"b_d150\",\"b_d200\",\"b_d300\",\"a_mos_lqo_mult10\",\n",
    "          \"b_mos_lqo_mult10\",\"a_mos_f1_mult10\",\"a_mos_f2_mult10\",\"a_mos_adapt_mult10\",\"b_mos_f1_mult10\",\"b_mos_f2_mult10\",\n",
    "          \"b_mos_adapt_mult10\",\"a_rtcp_loss\",\"a_rtcp_maxfr\",\"a_rtcp_avgfr_mult10\",\"a_rtcp_maxjitter\",\"a_rtcp_avgjitter_mult10\",\n",
    "          \"b_rtcp_loss\",\"b_rtcp_maxfr\",\"b_rtcp_avgfr_mult10\",\"b_rtcp_maxjitter\",\"b_rtcp_avgjitter_mult10\",\"a_last_rtp_from_end\",\n",
    "          \"b_last_rtp_from_end\",\"payload\",\"jitter_mult10\",\"mos_min_mult10\",\"a_mos_min_mult10\",\"b_mos_min_mult10\",\n",
    "          \"packet_loss_perc_mult1000\",\"a_packet_loss_perc_mult1000\",\"b_packet_loss_perc_mult1000\",\"delay_sum\",\"a_delay_sum\",\n",
    "          \"b_delay_sum\",\"delay_avg_mult100\",\"a_delay_avg_mult100\",\"b_delay_avg_mult100\",\"delay_cnt\",\"a_delay_cnt\",\n",
    "          \"b_delay_cnt\",\"rtcp_avgfr_mult10\",\"rtcp_avgjitter_mult10\",\"lost\",\"id_sensor\",\"price_operator_mult100\",\n",
    "          \"price_operator_currency_id\",\"price_customer_mult100\",\"price_customer_currency_id\",\"reason_sip_cause\",\n",
    "          \"reason_sip_text_id\",\"reason_q850_cause\",\"reason_q850_text_id\",\"caller_silence\",\"called_silence\",\n",
    "          \"caller_silence_end\",\"called_silence_end\",\"a_mos_xr_min_mult10\",\"b_mos_xr_min_mult10\",\"a_mos_xr_mult10\",\n",
    "          \"b_mos_xr_mult10\",\"response_time_100\",\"response_time_xxx\",\"a_mos_f1_min_mult10\",\"a_mos_f2_min_mult10\",\n",
    "          \"a_mos_adapt_min_mult10\",\"b_mos_f1_min_mult10\",\"b_mos_f2_min_mult10\",\"b_mos_adapt_min_mult10\",\"a_rtp_ptime\",\n",
    "          \"b_rtp_ptime\",\"flags\"]"
   ]
  },
  {
   "cell_type": "code",
   "execution_count": 3,
   "metadata": {},
   "outputs": [
    {
     "name": "stderr",
     "output_type": "stream",
     "text": [
      "/opt/conda/lib/python3.6/site-packages/IPython/core/interactiveshell.py:2785: DtypeWarning: Columns (95,97,98,99,132) have mixed types. Specify dtype option on import or set low_memory=False.\n",
      "  interactivity=interactivity, compiler=compiler, result=result)\n"
     ]
    }
   ],
   "source": [
    "df = pd.read_csv(CSV_FILE_PATH_1, names=HEADER)"
   ]
  },
  {
   "cell_type": "code",
   "execution_count": 15,
   "metadata": {},
   "outputs": [],
   "source": [
    "filter1 = ((df['b_mos_f1_mult10'] < 40) | (df['b_mos_f2_mult10'] < 40) | (df['b_mos_adapt_mult10'] < 40))"
   ]
  },
  {
   "cell_type": "code",
   "execution_count": 16,
   "metadata": {},
   "outputs": [
    {
     "data": {
      "text/plain": [
       "(12035, 145)"
      ]
     },
     "execution_count": 16,
     "metadata": {},
     "output_type": "execute_result"
    }
   ],
   "source": [
    "df[filter1].shape"
   ]
  },
  {
   "cell_type": "code",
   "execution_count": 11,
   "metadata": {},
   "outputs": [
    {
     "data": {
      "text/plain": [
       "(1374842, 145)"
      ]
     },
     "execution_count": 11,
     "metadata": {},
     "output_type": "execute_result"
    }
   ],
   "source": [
    "df.shape"
   ]
  },
  {
   "cell_type": "code",
   "execution_count": 14,
   "metadata": {},
   "outputs": [
    {
     "data": {
      "text/plain": [
       "(268, 145)"
      ]
     },
     "execution_count": 14,
     "metadata": {},
     "output_type": "execute_result"
    }
   ],
   "source": [
    "filter2 = ((df['b_mos_adapt_mult10'] < 4))\n",
    "df[filter2].shape"
   ]
  },
  {
   "cell_type": "code",
   "execution_count": 8,
   "metadata": {},
   "outputs": [],
   "source": [
    "#### procure data -> Delay_Sum, Jitter, MOS\n",
    "sum_pkt_loss_a =  df['a_sl1'] + df['a_sl2'] + df['a_sl3'] +\\\n",
    "      df['a_sl4'] + df['a_sl5'] + df['a_sl6'] + df['a_sl7'] + \\\n",
    "      df['a_sl8'] + df['a_sl9'] + df['a_sl10'] \n",
    "\n",
    "sum_pkt_loss_b =  df['b_sl1'] + df['b_sl2'] + df['b_sl3'] +\\\n",
    "      df['b_sl4'] + df['b_sl5'] + df['b_sl6'] + df['b_sl7'] + \\\n",
    "      df['b_sl8'] + df['b_sl9'] + df['b_sl10'] \n",
    "# avg_pkt_loss = optional b/c 0's can be in either row for the same thing"
   ]
  },
  {
   "cell_type": "code",
   "execution_count": 11,
   "metadata": {},
   "outputs": [],
   "source": [
    "\n",
    "xi_a = df[['delay_sum','a_maxjitter','a_mos_adapt_mult10','a_mos_f1_mult10', 'a_mos_f2_mult10']].values\n",
    "x_a = np.zeros((xi_a.shape[0], xi_a.shape[1]+1))\n",
    "x_a[:,:-1] = xi_a\n",
    "x_a[:,-1] = np.ones(xi_a.shape[0])\n",
    "\n",
    "xi_b = df[['delay_sum','b_maxjitter','b_mos_adapt_mult10','b_mos_f1_mult10', 'b_mos_f2_mult10']].values\n",
    "x_b = np.zeros((xi_b.shape[0], xi_b.shape[1]+1))\n",
    "x_b[:,:-1] = xi_b\n",
    "x_b[:,-1] = np.ones(xi_b.shape[0])"
   ]
  },
  {
   "cell_type": "code",
   "execution_count": 14,
   "metadata": {},
   "outputs": [
    {
     "name": "stdout",
     "output_type": "stream",
     "text": [
      "[  4.29045772e-04   1.82961959e-02   7.18087065e-01  -5.94220425e+00\n",
      "   6.55052198e-01   2.06745352e+02]\n"
     ]
    },
    {
     "name": "stderr",
     "output_type": "stream",
     "text": [
      "/opt/conda/lib/python3.6/site-packages/matplotlib/figure.py:418: UserWarning: matplotlib is currently using a non-GUI backend, so cannot show the figure\n",
      "  \"matplotlib is currently using a non-GUI backend, \"\n"
     ]
    },
    {
     "name": "stdout",
     "output_type": "stream",
     "text": [
      "Regression Score of Packet Loss & Mos Version A 0.0237224153003\n"
     ]
    },
    {
     "data": {
      "image/png": "[encoded data removed]",
      "text/plain": [
       "<matplotlib.figure.Figure at 0x7fa268feeb70>"
      ]
     },
     "metadata": {},
     "output_type": "display_data"
    }
   ],
   "source": [
    "####### Multi-Linear Regression W/ Packet Loss (A) & MOS\n",
    "\n",
    "fig1 = plt.figure(1)\n",
    "y = sum_pkt_loss_a.values\n",
    "m = np.linalg.lstsq(x_a,y)\n",
    "yfit = x_a.dot(m[0])\n",
    "# print (yfit.shape, y.shape, m[0].shape, x_a.shape)\n",
    "i = range(len(y))\n",
    "print(m[0])\n",
    "plt.plot(i,y,'ro')\n",
    "plt.plot(i,yfit,':')\n",
    "plt.title('Multi-Linear Regression w/ Packet Loss & MOS Version (A)')\n",
    "plt.xlabel('Data Points Numbers')\n",
    "plt.ylabel('Regression')\n",
    "fig1.show()\n",
    "# print('x_a ',x_a,'\\n y \\n', y)\n",
    "reg_score = np.corrcoef(y, yfit)[0, 1]**2\n",
    "print('Regression Score of Packet Loss & Mos Version A', reg_score)\n",
    "\n",
    "# plt.show()\n"
   ]
  },
  {
   "cell_type": "code",
   "execution_count": 15,
   "metadata": {},
   "outputs": [
    {
     "name": "stdout",
     "output_type": "stream",
     "text": [
      "[  3.72163636e-04  -2.50580392e-03   7.72816228e-01  -5.88657051e+00\n",
      "   1.33141891e+00   1.71437207e+02]\n"
     ]
    },
    {
     "name": "stderr",
     "output_type": "stream",
     "text": [
      "/opt/conda/lib/python3.6/site-packages/matplotlib/figure.py:418: UserWarning: matplotlib is currently using a non-GUI backend, so cannot show the figure\n",
      "  \"matplotlib is currently using a non-GUI backend, \"\n"
     ]
    },
    {
     "name": "stdout",
     "output_type": "stream",
     "text": [
      "Regression Score of Packet Loss & Mos Version B 0.011227069683\n"
     ]
    },
    {
     "data": {
      "image/png": "[encoded data removed]",
      "text/plain": [
       "<matplotlib.figure.Figure at 0x7fa268fc8ba8>"
      ]
     },
     "metadata": {},
     "output_type": "display_data"
    }
   ],
   "source": [
    "####### Multi-Linear Regression W/ Packet Loss (B) & MOS\n",
    "fig2 = plt.figure(2)\n",
    "y0 = sum_pkt_loss_b.values\n",
    "m0 = np.linalg.lstsq(x_b,y0)\n",
    "yfit0 = x_b.dot(m0[0])\n",
    "# print (yfit0.shape, y0.shape, m0[0].shape, x_b.shape)\n",
    "i0 = range(len(y0))\n",
    "print(m0[0])\n",
    "plt.plot(i, y0, 'ro')\n",
    "plt.plot(i,yfit0,':')\n",
    "plt.title('Multi-Linear Regression w/ Packet Loss & MOS Version (B)')\n",
    "plt.xlabel('Data Points Numbers')\n",
    "plt.ylabel('Regression')\n",
    "fig2.show()\n",
    "reg_score0 = np.corrcoef(y0, yfit0)[0, 1]**2\n",
    "print('Regression Score of Packet Loss & Mos Version B', reg_score0)\n",
    "# plt.show()\n",
    "\n",
    "#######################################################################\n"
   ]
  },
  {
   "cell_type": "code",
   "execution_count": 16,
   "metadata": {},
   "outputs": [
    {
     "data": {
      "text/plain": [
       "'\\nMulti-Linear regression: data is extremely noisy and messy\\n- no relationship between the variables \\n- correlation score is extremely poor -> reject correlation between the variables \\n- indication poor \\n\\n'"
      ]
     },
     "execution_count": 16,
     "metadata": {},
     "output_type": "execute_result"
    }
   ],
   "source": [
    "'''\n",
    "Multi-Linear regression: data is extremely noisy and messy\n",
    "- no relationship between the variables \n",
    "- correlation score is extremely poor -> reject correlation between the variables \n",
    "- indication poor \n",
    "\n",
    "'''"
   ]
  },
  {
   "cell_type": "code",
   "execution_count": 17,
   "metadata": {},
   "outputs": [
    {
     "name": "stderr",
     "output_type": "stream",
     "text": [
      "/opt/conda/lib/python3.6/site-packages/matplotlib/figure.py:418: UserWarning: matplotlib is currently using a non-GUI backend, so cannot show the figure\n",
      "  \"matplotlib is currently using a non-GUI backend, \"\n"
     ]
    },
    {
     "data": {
      "image/png": "[encoded data removed]",
      "text/plain": [
       "<matplotlib.figure.Figure at 0x7fa268ec91d0>"
      ]
     },
     "metadata": {},
     "output_type": "display_data"
    }
   ],
   "source": [
    "mindurcalls=df\n",
    "mindurcalls['connect_duration'].fillna(value=0, inplace=True)\n",
    "mindurcalls = mindurcalls[~pd.isnull(mindurcalls['connect_duration'])]\n",
    "binwidth = 5\n",
    "bins_hist = range(0, 45 + binwidth, binwidth)\n",
    "\n",
    "###### Histogram part A\n",
    "fig3 = plt.figure(3)\n",
    "\n",
    "mos_a1 = mindurcalls['a_mos_f1_mult10'].fillna(0)\n",
    "mos_a2 = mindurcalls['a_mos_f2_mult10'].fillna(0)\n",
    "mos_adapt_a = mindurcalls['a_mos_adapt_mult10'].fillna(0)\n",
    "\n",
    "hist_dataA = [mos_a1, mos_a2, mos_adapt_a]\n",
    "hist_labels = ['a_mos_f1_mult10','a_mos_f2_mult10','a_mos_adapt_mult10']\n",
    "plt.hist(hist_dataA, bins = bins_hist , alpha=1, label= hist_labels)\n",
    "plt.legend(loc='upper left')\n",
    "plt.grid(True)\n",
    "plt.axis([0, 45, 0, 6000],'scaled')\n",
    "plt.xlabel('MOS Scores')\n",
    "plt.ylabel('Frequency')\n",
    "plt.title('Histogram w/ MOS (A)')\n",
    "fig3.show()"
   ]
  },
  {
   "cell_type": "code",
   "execution_count": 18,
   "metadata": {
    "scrolled": true
   },
   "outputs": [
    {
     "name": "stderr",
     "output_type": "stream",
     "text": [
      "/opt/conda/lib/python3.6/site-packages/matplotlib/figure.py:418: UserWarning: matplotlib is currently using a non-GUI backend, so cannot show the figure\n",
      "  \"matplotlib is currently using a non-GUI backend, \"\n"
     ]
    },
    {
     "data": {
      "image/png": "[encoded data removed]",
      "text/plain": [
       "<matplotlib.figure.Figure at 0x7fa268eae208>"
      ]
     },
     "metadata": {},
     "output_type": "display_data"
    }
   ],
   "source": [
    "###### Histogram part B\n",
    "fig4 = plt.figure(4)\n",
    "\n",
    "mos_b1 = mindurcalls['b_mos_f1_mult10'].fillna(0)\n",
    "mos_b2 = mindurcalls['b_mos_f2_mult10'].fillna(0)\n",
    "mos_adapt_b = mindurcalls['b_mos_adapt_mult10'].fillna(0)\n",
    "\n",
    "hist_dataB = [mos_b1, mos_b2, mos_adapt_b]\n",
    "hist_labels = ['b_mos_f1_mult10','b_mos_f2_mult10','b_mos_adapt_mult10']\n",
    "plt.hist(hist_dataB, bins_hist, alpha=1, label= hist_labels)\n",
    "plt.legend(loc='upper left')\n",
    "plt.grid(True)\n",
    "plt.axis([0, 45, 0, 6000],'scaled')\n",
    "plt.xlabel('MOS Scores')\n",
    "plt.ylabel('Frequency')\n",
    "plt.title('Histogram w/ MOS (B)')\n",
    "fig4.show()\n",
    "\n",
    "plt.show()"
   ]
  },
  {
   "cell_type": "code",
   "execution_count": 4,
   "metadata": {},
   "outputs": [],
   "source": [
    "def evaluaterow(a1, a2, a3, a4, a5, a6, a7, a8, a9, a10, delay_sum, connect_duration):\n",
    "\n",
    "    calc_sum = get_sum(a1, a2, a3, a4, a5, a6, a7, a8, a9, a10)\n",
    "\n",
    "    final_sum = (delay_sum + calc_sum)/(connect_duration*1000)\n",
    "\n",
    "    return final_sum\n",
    "\n",
    "\n",
    "def get_sum(a1, a2, a3, a4, a5, a6, a7, a8, a9, a10):\n",
    "    top_sum = 0\n",
    "    n = 1\n",
    "    w1 = 1\n",
    "    w2 = 2\n",
    "    w3 = 3\n",
    "    w4 = 4\n",
    "    w5 = 5\n",
    "    w6 = 6\n",
    "    w7 = 7\n",
    "    w8 = 8\n",
    "    w9 = 9\n",
    "    w10 = 10\n",
    "\n",
    "    top_sum += 20 * n * (a1) * (w1 - 1)\n",
    "    n += 1\n",
    "    top_sum += 20 * n * (a2) * (w2 - 1)\n",
    "    n += 1\n",
    "    top_sum += 20 * n * (a3) * (w3 - 1)\n",
    "    n += 1\n",
    "    top_sum += 20 * n * (a4) * (w4 - 1)\n",
    "    n += 1\n",
    "    top_sum += 20 * n * (a5) * (w5 - 1)\n",
    "    n += 1\n",
    "    top_sum += 20 * n * (a6) * (w6 - 1)\n",
    "    n += 1\n",
    "    top_sum += 20 * n * (a7) * (w7 - 1)\n",
    "    n += 1\n",
    "    top_sum += 20 * n * (a8) * (w8 - 1)\n",
    "    n += 1\n",
    "    top_sum += 20 * n * (a9) * (w9 - 1)\n",
    "    n += 1\n",
    "    top_sum += 20 * n * (a10) * (w10 - 1)\n",
    "\n",
    "    return (top_sum)\n",
    "\n",
    "\n",
    "#df = df.assign(qualfun=df_qualfun)\n",
    "#df.compute()\n",
    "#dfqf = df_qualfun.compute()\n"
   ]
  },
  {
   "cell_type": "code",
   "execution_count": 5,
   "metadata": {},
   "outputs": [],
   "source": [
    "#qualfun for a\n",
    "df['a_qualfun'] = df.apply(lambda df2: pd.Series(evaluaterow(df2['a_sl1'],df2['a_sl2'],df2['a_sl3'],df2['a_sl4'],df2['a_sl5'],df2['a_sl6'],df2['a_sl7'],df2['a_sl8'],df2['a_sl9'],df2['a_sl10'],df2['a_delay_sum'],df2['connect_duration'])),axis=1)\n"
   ]
  },
  {
   "cell_type": "code",
   "execution_count": 6,
   "metadata": {},
   "outputs": [],
   "source": [
    "#qualfun for a\n",
    "df['b_qualfun'] = df.apply(lambda df2: pd.Series(evaluaterow(df2['b_sl1'],df2['b_sl2'],df2['b_sl3'],df2['b_sl4'],df2['b_sl5'],df2['b_sl6'],df2['b_sl7'],df2['b_sl8'],df2['b_sl9'],df2['b_sl10'],df2['b_delay_sum'],df2['connect_duration'])),axis=1)\n"
   ]
  },
  {
   "cell_type": "code",
   "execution_count": 7,
   "metadata": {},
   "outputs": [
    {
     "data": {
      "text/plain": [
       "(1374842, 145)"
      ]
     },
     "execution_count": 7,
     "metadata": {},
     "output_type": "execute_result"
    }
   ],
   "source": [
    "df.shape"
   ]
  },
  {
   "cell_type": "code",
   "execution_count": 11,
   "metadata": {},
   "outputs": [
    {
     "data": {
      "text/plain": [
       "5.75"
      ]
     },
     "execution_count": 11,
     "metadata": {},
     "output_type": "execute_result"
    }
   ],
   "source": [
    "df['a_qualfun'].max()"
   ]
  },
  {
   "cell_type": "code",
   "execution_count": 12,
   "metadata": {},
   "outputs": [
    {
     "data": {
      "text/plain": [
       "4.7539999999999996"
      ]
     },
     "execution_count": 12,
     "metadata": {},
     "output_type": "execute_result"
    }
   ],
   "source": [
    "df['b_qualfun'].max()"
   ]
  },
  {
   "cell_type": "code",
   "execution_count": 18,
   "metadata": {},
   "outputs": [
    {
     "data": {
      "text/plain": [
       "0          0.000000\n",
       "1          0.000000\n",
       "2          0.000000\n",
       "3          0.000000\n",
       "4          0.000000\n",
       "5          0.000000\n",
       "6          0.000000\n",
       "7          0.000000\n",
       "8          0.000000\n",
       "9          0.000000\n",
       "10         0.000000\n",
       "11         0.000000\n",
       "12         0.000000\n",
       "13         0.000000\n",
       "14         0.000000\n",
       "15         0.000000\n",
       "16         0.000000\n",
       "17         0.000000\n",
       "18         0.000000\n",
       "19         0.000000\n",
       "20         0.000000\n",
       "21         0.000000\n",
       "22         0.000000\n",
       "23         0.000000\n",
       "24         0.000000\n",
       "25         0.000000\n",
       "26         0.000000\n",
       "27         0.000000\n",
       "28         0.000000\n",
       "29         0.000000\n",
       "             ...   \n",
       "1374812    0.000000\n",
       "1374813    0.000000\n",
       "1374814    0.000000\n",
       "1374815    0.000000\n",
       "1374816    0.000000\n",
       "1374817    0.000000\n",
       "1374818    0.000000\n",
       "1374819    0.000000\n",
       "1374820    0.000000\n",
       "1374821    0.000000\n",
       "1374822    0.000000\n",
       "1374823    0.000000\n",
       "1374824    0.000000\n",
       "1374825    0.000000\n",
       "1374826    0.000000\n",
       "1374827    0.026375\n",
       "1374828    0.000000\n",
       "1374829    0.000000\n",
       "1374830    0.000000\n",
       "1374831    0.000000\n",
       "1374832    0.000000\n",
       "1374833    0.000000\n",
       "1374834    0.000000\n",
       "1374835    0.006282\n",
       "1374836    0.000000\n",
       "1374837    0.000000\n",
       "1374838    0.000000\n",
       "1374839    0.000000\n",
       "1374840    0.000000\n",
       "1374841    0.000000\n",
       "Name: a_qualfun, Length: 1374842, dtype: float64"
      ]
     },
     "execution_count": 18,
     "metadata": {},
     "output_type": "execute_result"
    }
   ],
   "source": [
    "df['a_qualfun']"
   ]
  },
  {
   "cell_type": "code",
   "execution_count": 7,
   "metadata": {},
   "outputs": [
    {
     "data": {
      "text/plain": [
       "(154, 145)"
      ]
     },
     "execution_count": 7,
     "metadata": {},
     "output_type": "execute_result"
    }
   ],
   "source": [
    "filter_a = df['a_qualfun'] > 0.8\n",
    "df[filter_a].shape"
   ]
  },
  {
   "cell_type": "code",
   "execution_count": 8,
   "metadata": {},
   "outputs": [
    {
     "data": {
      "text/plain": [
       "(32, 145)"
      ]
     },
     "execution_count": 8,
     "metadata": {},
     "output_type": "execute_result"
    }
   ],
   "source": [
    "filter_b = df['b_qualfun'] > 0.8\n",
    "df[filter_b].shape"
   ]
  },
  {
   "cell_type": "code",
   "execution_count": 7,
   "metadata": {},
   "outputs": [],
   "source": [
    "filter_1 = df['a_qualfun'] > 0"
   ]
  },
  {
   "cell_type": "code",
   "execution_count": 8,
   "metadata": {},
   "outputs": [
    {
     "data": {
      "text/plain": [
       "(193960, 145)"
      ]
     },
     "execution_count": 8,
     "metadata": {},
     "output_type": "execute_result"
    }
   ],
   "source": [
    "d_a_qualfun = df[filter_1]\n",
    "d_a_qualfun.shape"
   ]
  },
  {
   "cell_type": "code",
   "execution_count": 9,
   "metadata": {},
   "outputs": [
    {
     "data": {
      "text/plain": [
       "(240107, 145)"
      ]
     },
     "execution_count": 9,
     "metadata": {},
     "output_type": "execute_result"
    }
   ],
   "source": [
    "filter_2 = df['b_qualfun'] > 0\n",
    "d_b_qualfun = df[filter_2]\n",
    "d_b_qualfun.shape"
   ]
  },
  {
   "cell_type": "code",
   "execution_count": 10,
   "metadata": {},
   "outputs": [],
   "source": [
    "total_qual = 193960 + 240107\n",
    "total_overall = 1374842\n",
    "\n",
    "percent = total_qual/total_overall"
   ]
  },
  {
   "cell_type": "code",
   "execution_count": 34,
   "metadata": {},
   "outputs": [
    {
     "name": "stdout",
     "output_type": "stream",
     "text": [
      "0.31572137016471713\n"
     ]
    }
   ],
   "source": [
    "print(percent)"
   ]
  },
  {
   "cell_type": "code",
   "execution_count": 35,
   "metadata": {},
   "outputs": [
    {
     "name": "stdout",
     "output_type": "stream",
     "text": [
      "434067\n"
     ]
    }
   ],
   "source": [
    "print(total_qual)"
   ]
  },
  {
   "cell_type": "code",
   "execution_count": null,
   "metadata": {},
   "outputs": [],
   "source": []
  },
  {
   "cell_type": "code",
   "execution_count": null,
   "metadata": {},
   "outputs": [],
   "source": [
    "plt.scatter(d_a_qualfun.head(100), d_b_qualfun.)\n",
    "plt.show()"
   ]
  },
  {
   "cell_type": "code",
   "execution_count": 22,
   "metadata": {},
   "outputs": [],
   "source": [
    "sum_pkt_loss_a =  df['a_sl1'] + df['a_sl2'] + df['a_sl3'] +\\\n",
    "      df['a_sl4'] + df['a_sl5'] + df['a_sl6'] + df['a_sl7'] + \\\n",
    "      df['a_sl8'] + df['a_sl9'] + df['a_sl10'] \n",
    "\n",
    "sum_pkt_loss_b =  df['b_sl1'] + df['b_sl2'] + df['b_sl3'] +\\\n",
    "      df['b_sl4'] + df['b_sl5'] + df['b_sl6'] + df['b_sl7'] + \\\n",
    "      df['b_sl8'] + df['b_sl9'] + df['b_sl10'] "
   ]
  },
  {
   "cell_type": "code",
   "execution_count": 20,
   "metadata": {},
   "outputs": [],
   "source": [
    "####### Multi-Linear Regression W/ Packet Loss & Qualfun Version (A)\n",
    "\n",
    "xi2_a = df[['delay_sum','a_maxjitter', 'a_qualfun']].values\n",
    "x2_a = np.zeros((xi2_a.shape[0], xi2_a.shape[1]+1))\n",
    "x2_a[:,:-1] = xi2_a\n",
    "x2_a[:,-1] = np.ones(xi2_a.shape[0])"
   ]
  },
  {
   "cell_type": "code",
   "execution_count": 23,
   "metadata": {},
   "outputs": [
    {
     "name": "stdout",
     "output_type": "stream",
     "text": [
      "(1374842,) (1374842,) (4,) (1374842, 4)\n",
      "[  4.27394252e-04   1.53093585e-02   1.03298671e+02   1.35192978e+00]\n",
      "Regression Score for MaxJitter A, Packet Loss & Qualfun Version A 0.00940912296338\n"
     ]
    },
    {
     "name": "stderr",
     "output_type": "stream",
     "text": [
      "/opt/conda/lib/python3.6/site-packages/matplotlib/figure.py:418: UserWarning: matplotlib is currently using a non-GUI backend, so cannot show the figure\n",
      "  \"matplotlib is currently using a non-GUI backend, \"\n"
     ]
    },
    {
     "data": {
      "image/png": "[encoded data removed]",
      "text/plain": [
       "<matplotlib.figure.Figure at 0x7f38893a7d68>"
      ]
     },
     "metadata": {},
     "output_type": "display_data"
    }
   ],
   "source": [
    "\n",
    "fig4 = plt.figure(4)\n",
    "y2 = sum_pkt_loss_a.values\n",
    "m2 = np.linalg.lstsq(x2_a,y2)\n",
    "yfit2 = x2_a.dot(m2[0])\n",
    "print (yfit2.shape, y2.shape, m2[0].shape, x2_a.shape)\n",
    "i = range(len(y2))\n",
    "print(m2[0])\n",
    "plt.plot(i,y2,'ro')\n",
    "plt.plot(i,yfit2,':')\n",
    "plt.xlabel('Data Points Numbers')\n",
    "plt.ylabel('Regression')\n",
    "plt.title('Multi-Linear Regression w/ packet loss, MaxJitter A & Qualfun Version (A)')\n",
    "reg_score = np.corrcoef(y2, yfit2)[0, 1]**2\n",
    "print('Regression Score for MaxJitter A, Packet Loss & Qualfun Version A',reg_score)\n",
    "fig4.show()"
   ]
  },
  {
   "cell_type": "code",
   "execution_count": 25,
   "metadata": {},
   "outputs": [
    {
     "name": "stdout",
     "output_type": "stream",
     "text": [
      "(1374842,) (1374842,) (4,) (1374842, 4)\n",
      "[  2.18888865e-04  -1.47875981e-02   2.66996249e+02   1.45867544e+00]\n",
      "Regression Score for MaxJitter A, Packet Loss & Qualfun Version A 0.00825308105551\n"
     ]
    },
    {
     "name": "stderr",
     "output_type": "stream",
     "text": [
      "/opt/conda/lib/python3.6/site-packages/matplotlib/figure.py:418: UserWarning: matplotlib is currently using a non-GUI backend, so cannot show the figure\n",
      "  \"matplotlib is currently using a non-GUI backend, \"\n"
     ]
    },
    {
     "data": {
      "image/png": "[encoded data removed]",
      "text/plain": [
       "<matplotlib.figure.Figure at 0x7f38299edf98>"
      ]
     },
     "metadata": {},
     "output_type": "display_data"
    }
   ],
   "source": [
    "\n",
    "####### Multi-Linear Regression W/ Packet Loss & Qualfun Version (B)\n",
    "\n",
    "xi2_b = df[['delay_sum','b_maxjitter', 'b_qualfun']].values\n",
    "x2_b = np.zeros((xi2_b.shape[0], xi2_b.shape[1]+1))\n",
    "x2_b[:,:-1] = xi2_b\n",
    "x2_b[:,-1] = np.ones(xi2_b.shape[0])\n",
    "\n",
    "\n",
    "fig5 = plt.figure(5)\n",
    "y3 = sum_pkt_loss_b.values\n",
    "m3 = np.linalg.lstsq(x2_b,y3)\n",
    "yfit3 = x2_b.dot(m3[0])\n",
    "print (yfit3.shape, y3.shape, m3[0].shape, x2_b.shape)\n",
    "i0 = range(len(y3))\n",
    "print(m3[0])\n",
    "plt.plot(i, y3, 'ro')\n",
    "plt.plot(i,yfit3,':')\n",
    "plt.title('Multi-Linear Regression w/ packet loss, MaxJitter B & Qualfun Version (B)')\n",
    "plt.xlabel('Data Points Numbers')\n",
    "plt.ylabel('Regression')\n",
    "reg_score = np.corrcoef(y3, yfit3)[0, 1]**2\n",
    "print('Regression Score for MaxJitter A, Packet Loss & Qualfun Version A',reg_score)\n",
    "fig5.show()"
   ]
  },
  {
   "cell_type": "code",
   "execution_count": 27,
   "metadata": {},
   "outputs": [
    {
     "name": "stderr",
     "output_type": "stream",
     "text": [
      "/opt/conda/lib/python3.6/site-packages/matplotlib/figure.py:418: UserWarning: matplotlib is currently using a non-GUI backend, so cannot show the figure\n",
      "  \"matplotlib is currently using a non-GUI backend, \"\n"
     ]
    },
    {
     "data": {
      "image/png": "[encoded data removed]",
      "text/plain": [
       "<matplotlib.figure.Figure at 0x7f38290ef668>"
      ]
     },
     "metadata": {},
     "output_type": "display_data"
    },
    {
     "data": {
      "image/png": "[encoded data removed]",
      "text/plain": [
       "<matplotlib.figure.Figure at 0x7f385ef582e8>"
      ]
     },
     "metadata": {},
     "output_type": "display_data"
    }
   ],
   "source": [
    "\n",
    "###### Histogram part A\n",
    "fig6 = plt.figure(6)\n",
    "\n",
    "qual_a = [ df['a_qualfun'] ]\n",
    "# qualbins_hist_a = np.arange(df['b_maxjitter'].min(),df['b_maxjitter'].idxmax())\n",
    "\n",
    "hist_labels = ['a_qualfun']\n",
    "plt.hist(qual_a, alpha=1, label= hist_labels)\n",
    "plt.legend(loc='upper left')\n",
    "plt.grid(True)\n",
    "\n",
    "\n",
    "plt.xlabel('MOS Scores')\n",
    "plt.ylabel('Frequency')\n",
    "plt.title('Histogram w/ Qualfun A')\n",
    "fig6.show()\n",
    " \n",
    "\n",
    "fig7 = plt.figure(7)\n",
    "qual_b = [ df['b_qualfun'] ]\n",
    "# qualbins_hist_b = np.arange(df['b_maxjitter'].min(),df['delay_sum'].idxmax())\n",
    "\n",
    "hist_labels = ['b_maxjitter']\n",
    "plt.hist(qual_a, alpha=1, label= hist_labels)\n",
    "plt.legend(loc='upper left')\n",
    "plt.grid(True)\n",
    "\n",
    "plt.xlabel('Qualfun Scores')\n",
    "plt.ylabel('Frequency')\n",
    "plt.title('Histogram w/ Qualfun B')\n",
    "fig7.show()\n",
    "\n",
    "plt.show()\n"
   ]
  },
  {
   "cell_type": "code",
   "execution_count": null,
   "metadata": {},
   "outputs": [],
   "source": []
  }
 ],
 "metadata": {
  "kernelspec": {
   "display_name": "Python 3",
   "language": "python",
   "name": "python3"
  },
  "language_info": {
   "codemirror_mode": {
    "name": "ipython",
    "version": 3
   },
   "file_extension": ".py",
   "mimetype": "text/x-python",
   "name": "python",
   "nbconvert_exporter": "python",
   "pygments_lexer": "ipython3",
   "version": "3.6.5"
  }
 },
 "nbformat": 4,
 "nbformat_minor": 2
}
