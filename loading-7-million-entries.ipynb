{
 "cells": [
  {
   "cell_type": "code",
   "execution_count": null,
   "metadata": {},
   "outputs": [],
   "source": [
    "import os\n",
    "import dask.dataframe as dd"
   ]
  },
  {
   "cell_type": "code",
   "execution_count": 5,
   "metadata": {},
   "outputs": [],
   "source": [
    "DATA_ROOT = 'data/workshop-content18/5-cloudpbx/data/'\n",
    "CSV_FILE_PATH = os.path.join(DATA_ROOT + 'graham_cdr_7M.csv')"
   ]
  },
  {
   "cell_type": "code",
   "execution_count": 6,
   "metadata": {},
   "outputs": [],
   "source": [
    "HEADER = [\"ID\",\"calldate\",\"callend\",\"duration\",\"connect_duration\",\"progress_time\",\"first_rtp_time\",\"caller\",\n",
    "          \"caller_domain\",\"caller_reverse\",\"callername\",\"callername_reverse\",\"called\",\"called_domain\",\"called_reverse\",\n",
    "          \"sipcallerip\",\"sipcallerport\",\"sipcalledip\",\"sipcalledport\",\"whohanged\",\"bye\",\"lastSIPresponse_id\",\n",
    "          \"lastSIPresponseNum\",\"sighup\",\"dscp\",\"a_index\",\"b_index\",\"a_payload\",\"b_payload\",\"a_saddr\",\"b_saddr\",\n",
    "          \"a_received\",\"b_received\",\"a_lost\",\"b_lost\",\"a_ua_id\",\"b_ua_id\",\"a_avgjitter_mult10\",\"b_avgjitter_mult10\",\n",
    "          \"a_maxjitter\",\"b_maxjitter\",\"a_sl1\",\"a_sl2\",\"a_sl3\",\"a_sl4\",\"a_sl5\",\"a_sl6\",\"a_sl7\",\"a_sl8\",\"a_sl9\",\"a_sl10\",\n",
    "          \"a_d50\",\"a_d70\",\"a_d90\",\"a_d120\",\"a_d150\",\"a_d200\",\"a_d300\",\"b_sl1\",\"b_sl2\",\"b_sl3\",\"b_sl4\",\"b_sl5\",\"b_sl6\",\"b_sl7\",\n",
    "          \"b_sl8\",\"b_sl9\",\"b_sl10\",\"b_d50\",\"b_d70\",\"b_d90\",\"b_d120\",\"b_d150\",\"b_d200\",\"b_d300\",\"a_mos_lqo_mult10\",\n",
    "          \"b_mos_lqo_mult10\",\"a_mos_f1_mult10\",\"a_mos_f2_mult10\",\"a_mos_adapt_mult10\",\"b_mos_f1_mult10\",\"b_mos_f2_mult10\",\n",
    "          \"b_mos_adapt_mult10\",\"a_rtcp_loss\",\"a_rtcp_maxfr\",\"a_rtcp_avgfr_mult10\",\"a_rtcp_maxjitter\",\"a_rtcp_avgjitter_mult10\",\n",
    "          \"b_rtcp_loss\",\"b_rtcp_maxfr\",\"b_rtcp_avgfr_mult10\",\"b_rtcp_maxjitter\",\"b_rtcp_avgjitter_mult10\",\"a_last_rtp_from_end\",\n",
    "          \"b_last_rtp_from_end\",\"payload\",\"jitter_mult10\",\"mos_min_mult10\",\"a_mos_min_mult10\",\"b_mos_min_mult10\",\n",
    "          \"packet_loss_perc_mult1000\",\"a_packet_loss_perc_mult1000\",\"b_packet_loss_perc_mult1000\",\"delay_sum\",\"a_delay_sum\",\n",
    "          \"b_delay_sum\",\"delay_avg_mult100\",\"a_delay_avg_mult100\",\"b_delay_avg_mult100\",\"delay_cnt\",\"a_delay_cnt\",\n",
    "          \"b_delay_cnt\",\"rtcp_avgfr_mult10\",\"rtcp_avgjitter_mult10\",\"lost\",\"id_sensor\",\"price_operator_mult100\",\n",
    "          \"price_operator_currency_id\",\"price_customer_mult100\",\"price_customer_currency_id\",\"reason_sip_cause\",\n",
    "          \"reason_sip_text_id\",\"reason_q850_cause\",\"reason_q850_text_id\",\"caller_silence\",\"called_silence\",\n",
    "          \"caller_silence_end\",\"called_silence_end\",\"a_mos_xr_min_mult10\",\"b_mos_xr_min_mult10\",\"a_mos_xr_mult10\",\n",
    "          \"b_mos_xr_mult10\",\"response_time_100\",\"response_time_xxx\",\"a_mos_f1_min_mult10\",\"a_mos_f2_min_mult10\",\n",
    "          \"a_mos_adapt_min_mult10\",\"b_mos_f1_min_mult10\",\"b_mos_f2_min_mult10\",\"b_mos_adapt_min_mult10\",\"a_rtp_ptime\",\n",
    "          \"b_rtp_ptime\",\"flags\"]"
   ]
  },
  {
   "cell_type": "code",
   "execution_count": null,
   "metadata": {},
   "outputs": [],
   "source": [
    "#df = dd.read_csv(CSV_FILE_PATH, names=HEADER, dtype={'payload': 'object','response_time_100': 'object'})\n",
    "df = dd.read_csv(CSV_FILE_PATH, names=HEADER, dtype='object')"
   ]
  },
  {
   "cell_type": "code",
   "execution_count": null,
   "metadata": {},
   "outputs": [],
   "source": [
    "df.loc[:5].compute()"
   ]
  },
  {
   "cell_type": "code",
   "execution_count": 14,
   "metadata": {},
   "outputs": [
    {
     "data": {
      "text/plain": [
       "<bound method _Frame.head of Dask DataFrame Structure:\n",
       "                   ID calldate callend duration connect_duration progress_time first_rtp_time  caller caller_domain caller_reverse callername callername_reverse  called called_domain called_reverse sipcallerip sipcallerport sipcalledip sipcalledport whohanged    bye lastSIPresponse_id lastSIPresponseNum sighup   dscp a_index b_index a_payload b_payload a_saddr b_saddr a_received b_received a_lost b_lost a_ua_id b_ua_id a_avgjitter_mult10 b_avgjitter_mult10 a_maxjitter b_maxjitter  a_sl1  a_sl2  a_sl3  a_sl4  a_sl5  a_sl6  a_sl7  a_sl8  a_sl9 a_sl10  a_d50  a_d70  a_d90 a_d120 a_d150 a_d200 a_d300  b_sl1  b_sl2  b_sl3  b_sl4  b_sl5  b_sl6  b_sl7  b_sl8  b_sl9 b_sl10  b_d50  b_d70  b_d90 b_d120 b_d150 b_d200 b_d300 a_mos_lqo_mult10 b_mos_lqo_mult10 a_mos_f1_mult10 a_mos_f2_mult10 a_mos_adapt_mult10 b_mos_f1_mult10 b_mos_f2_mult10 b_mos_adapt_mult10 a_rtcp_loss a_rtcp_maxfr a_rtcp_avgfr_mult10 a_rtcp_maxjitter a_rtcp_avgjitter_mult10 b_rtcp_loss b_rtcp_maxfr b_rtcp_avgfr_mult10 b_rtcp_maxjitter b_rtcp_avgjitter_mult10 a_last_rtp_from_end b_last_rtp_from_end payload jitter_mult10 mos_min_mult10 a_mos_min_mult10 b_mos_min_mult10 packet_loss_perc_mult1000 a_packet_loss_perc_mult1000 b_packet_loss_perc_mult1000 delay_sum a_delay_sum b_delay_sum delay_avg_mult100 a_delay_avg_mult100 b_delay_avg_mult100 delay_cnt a_delay_cnt b_delay_cnt rtcp_avgfr_mult10 rtcp_avgjitter_mult10   lost id_sensor price_operator_mult100 price_operator_currency_id price_customer_mult100 price_customer_currency_id reason_sip_cause reason_sip_text_id reason_q850_cause reason_q850_text_id caller_silence called_silence caller_silence_end called_silence_end a_mos_xr_min_mult10 b_mos_xr_min_mult10 a_mos_xr_mult10 b_mos_xr_mult10 response_time_100 response_time_xxx a_mos_f1_min_mult10 a_mos_f2_min_mult10 a_mos_adapt_min_mult10 b_mos_f1_min_mult10 b_mos_f2_min_mult10 b_mos_adapt_min_mult10 a_rtp_ptime b_rtp_ptime   flags\n",
       "npartitions=65                                                                                                                                                                                                                                                                                                                                                                                                                                                                                                                                                                                                                                                                                                                                                                                                                                                                                                                                                                                                                                                                                                                                                                                                                                                                                                                                                                                                                                                                                                                                                                                                                                                                                                                                                                                                                                                                                                                                                                            \n",
       "                int64   object  object    int64            int64         int64          int64  object        object         object     object             object  object        object         object       int64         int64       int64         int64    object  int64              int64              int64  int64  int64   int64   int64     int64     int64   int64   int64      int64      int64  int64  int64  object  object              int64              int64       int64       int64  int64  int64  int64  int64  int64  int64  int64  int64  int64  int64  int64  int64  int64  int64  int64  int64  int64  int64  int64  int64  int64  int64  int64  int64  int64  int64  int64  int64  int64  int64  int64  int64  int64  int64           object           object           int64           int64              int64           int64           int64              int64      object       object              object           object                  object      object       object              object           object                  object              object              object   int64         int64         object           object           object                     int64                       int64                       int64     int64       int64       int64             int64               int64               int64     int64       int64       int64            object                object  int64     int64                 object                     object                 object                     object           object             object            object              object         object         object             object             object              object              object          object          object             int64             int64               int64               int64                  int64               int64               int64                  int64       int64       int64  object\n",
       "                  ...      ...     ...      ...              ...           ...            ...     ...           ...            ...        ...                ...     ...           ...            ...         ...           ...         ...           ...       ...    ...                ...                ...    ...    ...     ...     ...       ...       ...     ...     ...        ...        ...    ...    ...     ...     ...                ...                ...         ...         ...    ...    ...    ...    ...    ...    ...    ...    ...    ...    ...    ...    ...    ...    ...    ...    ...    ...    ...    ...    ...    ...    ...    ...    ...    ...    ...    ...    ...    ...    ...    ...    ...    ...    ...              ...              ...             ...             ...                ...             ...             ...                ...         ...          ...                 ...              ...                     ...         ...          ...                 ...              ...                     ...                 ...                 ...     ...           ...            ...              ...              ...                       ...                         ...                         ...       ...         ...         ...               ...                 ...                 ...       ...         ...         ...               ...                   ...    ...       ...                    ...                        ...                    ...                        ...              ...                ...               ...                 ...            ...            ...                ...                ...                 ...                 ...             ...             ...               ...               ...                 ...                 ...                    ...                 ...                 ...                    ...         ...         ...     ...\n",
       "...               ...      ...     ...      ...              ...           ...            ...     ...           ...            ...        ...                ...     ...           ...            ...         ...           ...         ...           ...       ...    ...                ...                ...    ...    ...     ...     ...       ...       ...     ...     ...        ...        ...    ...    ...     ...     ...                ...                ...         ...         ...    ...    ...    ...    ...    ...    ...    ...    ...    ...    ...    ...    ...    ...    ...    ...    ...    ...    ...    ...    ...    ...    ...    ...    ...    ...    ...    ...    ...    ...    ...    ...    ...    ...    ...              ...              ...             ...             ...                ...             ...             ...                ...         ...          ...                 ...              ...                     ...         ...          ...                 ...              ...                     ...                 ...                 ...     ...           ...            ...              ...              ...                       ...                         ...                         ...       ...         ...         ...               ...                 ...                 ...       ...         ...         ...               ...                   ...    ...       ...                    ...                        ...                    ...                        ...              ...                ...               ...                 ...            ...            ...                ...                ...                 ...                 ...             ...             ...               ...               ...                 ...                 ...                    ...                 ...                 ...                    ...         ...         ...     ...\n",
       "                  ...      ...     ...      ...              ...           ...            ...     ...           ...            ...        ...                ...     ...           ...            ...         ...           ...         ...           ...       ...    ...                ...                ...    ...    ...     ...     ...       ...       ...     ...     ...        ...        ...    ...    ...     ...     ...                ...                ...         ...         ...    ...    ...    ...    ...    ...    ...    ...    ...    ...    ...    ...    ...    ...    ...    ...    ...    ...    ...    ...    ...    ...    ...    ...    ...    ...    ...    ...    ...    ...    ...    ...    ...    ...    ...              ...              ...             ...             ...                ...             ...             ...                ...         ...          ...                 ...              ...                     ...         ...          ...                 ...              ...                     ...                 ...                 ...     ...           ...            ...              ...              ...                       ...                         ...                         ...       ...         ...         ...               ...                 ...                 ...       ...         ...         ...               ...                   ...    ...       ...                    ...                        ...                    ...                        ...              ...                ...               ...                 ...            ...            ...                ...                ...                 ...                 ...             ...             ...               ...               ...                 ...                 ...                    ...                 ...                 ...                    ...         ...         ...     ...\n",
       "                  ...      ...     ...      ...              ...           ...            ...     ...           ...            ...        ...                ...     ...           ...            ...         ...           ...         ...           ...       ...    ...                ...                ...    ...    ...     ...     ...       ...       ...     ...     ...        ...        ...    ...    ...     ...     ...                ...                ...         ...         ...    ...    ...    ...    ...    ...    ...    ...    ...    ...    ...    ...    ...    ...    ...    ...    ...    ...    ...    ...    ...    ...    ...    ...    ...    ...    ...    ...    ...    ...    ...    ...    ...    ...    ...              ...              ...             ...             ...                ...             ...             ...                ...         ...          ...                 ...              ...                     ...         ...          ...                 ...              ...                     ...                 ...                 ...     ...           ...            ...              ...              ...                       ...                         ...                         ...       ...         ...         ...               ...                 ...                 ...       ...         ...         ...               ...                   ...    ...       ...                    ...                        ...                    ...                        ...              ...                ...               ...                 ...            ...            ...                ...                ...                 ...                 ...             ...             ...               ...               ...                 ...                 ...                    ...                 ...                 ...                    ...         ...         ...     ...\n",
       "Dask Name: from-delayed, 195 tasks>"
      ]
     },
     "execution_count": 14,
     "metadata": {},
     "output_type": "execute_result"
    }
   ],
   "source": [
    "df.head()"
   ]
  },
  {
   "cell_type": "code",
   "execution_count": 5,
   "metadata": {
    "scrolled": true
   },
   "outputs": [],
   "source": [
    "da = df.sipcallerip.drop_duplicates()"
   ]
  },
  {
   "cell_type": "code",
   "execution_count": 8,
   "metadata": {},
   "outputs": [
    {
     "data": {
      "text/plain": [
       "1"
      ]
     },
     "execution_count": 8,
     "metadata": {},
     "output_type": "execute_result"
    }
   ],
   "source": [
    "da.ndim"
   ]
  },
  {
   "cell_type": "code",
   "execution_count": null,
   "metadata": {},
   "outputs": [],
   "source": []
  }
 ],
 "metadata": {
  "kernelspec": {
   "display_name": "Python 3",
   "language": "python",
   "name": "python3"
  },
  "language_info": {
   "codemirror_mode": {
    "name": "ipython",
    "version": 3
   },
   "file_extension": ".py",
   "mimetype": "text/x-python",
   "name": "python",
   "nbconvert_exporter": "python",
   "pygments_lexer": "ipython3",
   "version": "3.6.5"
  }
 },
 "nbformat": 4,
 "nbformat_minor": 2
}
