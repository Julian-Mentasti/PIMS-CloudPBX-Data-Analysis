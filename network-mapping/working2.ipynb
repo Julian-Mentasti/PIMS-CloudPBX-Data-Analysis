{
 "cells": [
  {
   "cell_type": "code",
   "execution_count": 2,
   "metadata": {},
   "outputs": [],
   "source": [
    "import numpy as np\n",
    "import pandas as pd\n",
    "import geoip2.database\n",
    "import ipaddress\n",
    "import os"
   ]
  },
  {
   "cell_type": "code",
   "execution_count": 3,
   "metadata": {},
   "outputs": [],
   "source": [
    "DATA_ROOT = \"/home/julian-mentasti/\"\n",
    "CSV_FILE_PATH = os.path.join(DATA_ROOT,'files-10-thousand.csv')\n",
    "#df_sub = pd.read_csv(DATA_ROOT + 'distinct_subrip_cpbxip.csv')\n",
    "GEOLITE_ASN_PATH = os.path.join(DATA_ROOT + 'GeoLite2-ASN.mmdb')\n",
    "GEOLITE_CITY_PATH = os.path.join(DATA_ROOT + 'GeoLite2-City.mmdb')\n",
    "readerASN = geoip2.database.Reader(GEOLITE_ASN_PATH)\n",
    "readerCITY = geoip2.database.Reader(GEOLITE_CITY_PATH)"
   ]
  },
  {
   "cell_type": "code",
   "execution_count": 4,
   "metadata": {},
   "outputs": [],
   "source": [
    "df_unclean = pd.read_csv(CSV_FILE_PATH)"
   ]
  },
  {
   "cell_type": "code",
   "execution_count": 5,
   "metadata": {},
   "outputs": [],
   "source": [
    "def getASobject(x):\n",
    "    ip = ipaddress.ip_address(x)\n",
    "    try: return readerASN.asn(str(ip))\n",
    "    except: return \"The address {} is not in the database.\".format(ip)\n",
    "    \n",
    "def getCityobject(x):\n",
    "    if type(x) == str: return x\n",
    "    return readerASN.asn(str(ipaddress.ip_address(x)))\n",
    "\n",
    "def getCountry(x):\n",
    "    try: x.country.names['en']\n",
    "    except: return 'Narnia'\n",
    "    \n",
    "def getIP(x):\n",
    "    if type(x) == str: return x\n",
    "    return x.ip_address\n",
    "\n",
    "def getASN(x):\n",
    "    if type(x) == str: return x\n",
    "    return x.autonomous_system_number\n",
    "\n",
    "def getASorg(x):\n",
    "    if type(x) == str: return x\n",
    "    return x.autonomous_system_organization\n",
    "\n",
    "def getLat(x):\n",
    "    try: return readerCITY.city(str(x)).location.latitude\n",
    "    except: return 0.0\n",
    "def getLong(x):\n",
    "    try: return readerCITY.city(str(x)).location.longitude\n",
    "    \n",
    "    except: return 0.0\n",
    "def sendA(x):\n",
    "    if x == \"CloudPBX\": return False\n",
    "    return True"
   ]
  },
  {
   "cell_type": "code",
   "execution_count": 6,
   "metadata": {},
   "outputs": [],
   "source": [
    "filter_1 = df_unclean['connect_duration'] > 0"
   ]
  },
  {
   "cell_type": "code",
   "execution_count": 7,
   "metadata": {},
   "outputs": [],
   "source": [
    "df = df_unclean[filter_1]"
   ]
  },
  {
   "cell_type": "code",
   "execution_count": 8,
   "metadata": {},
   "outputs": [
    {
     "name": "stderr",
     "output_type": "stream",
     "text": [
      "/opt/conda/lib/python3.6/site-packages/ipykernel_launcher.py:4: SettingWithCopyWarning: \n",
      "A value is trying to be set on a copy of a slice from a DataFrame.\n",
      "Try using .loc[row_indexer,col_indexer] = value instead\n",
      "\n",
      "See the caveats in the documentation: http://pandas.pydata.org/pandas-docs/stable/indexing.html#indexing-view-versus-copy\n",
      "  after removing the cwd from sys.path.\n",
      "/opt/conda/lib/python3.6/site-packages/ipykernel_launcher.py:5: SettingWithCopyWarning: \n",
      "A value is trying to be set on a copy of a slice from a DataFrame.\n",
      "Try using .loc[row_indexer,col_indexer] = value instead\n",
      "\n",
      "See the caveats in the documentation: http://pandas.pydata.org/pandas-docs/stable/indexing.html#indexing-view-versus-copy\n",
      "  \"\"\"\n"
     ]
    }
   ],
   "source": [
    "def toIP(x):\n",
    "    return str(ipaddress.ip_address(x))\n",
    "\n",
    "df['ipaddr_caller'] = df[\"sipcallerip\"].apply(toIP)\n",
    "df['ipaddr_called'] = df[\"sipcalledip\"].apply(toIP)"
   ]
  },
  {
   "cell_type": "code",
   "execution_count": 10,
   "metadata": {},
   "outputs": [
    {
     "name": "stderr",
     "output_type": "stream",
     "text": [
      "/opt/conda/lib/python3.6/site-packages/ipykernel_launcher.py:8: SettingWithCopyWarning: \n",
      "A value is trying to be set on a copy of a slice from a DataFrame.\n",
      "Try using .loc[row_indexer,col_indexer] = value instead\n",
      "\n",
      "See the caveats in the documentation: http://pandas.pydata.org/pandas-docs/stable/indexing.html#indexing-view-versus-copy\n",
      "  \n",
      "/opt/conda/lib/python3.6/site-packages/ipykernel_launcher.py:9: SettingWithCopyWarning: \n",
      "A value is trying to be set on a copy of a slice from a DataFrame.\n",
      "Try using .loc[row_indexer,col_indexer] = value instead\n",
      "\n",
      "See the caveats in the documentation: http://pandas.pydata.org/pandas-docs/stable/indexing.html#indexing-view-versus-copy\n",
      "  if __name__ == '__main__':\n"
     ]
    }
   ],
   "source": [
    "reader = geoip2.database.Reader(GEOLITE_CITY_PATH)\n",
    "def findLat(ip):\n",
    "\n",
    "    response = reader.city(ip)\n",
    "    lat = response.location.latitude\n",
    "\n",
    "    return lat\n",
    "df['ipaddr_lat_sip_caller'] = df[\"ipaddr_caller\"].apply(findLat)\n",
    "df['ipaddr_lat_ip_called'] = df[\"ipaddr_called\"].apply(findLat)"
   ]
  },
  {
   "cell_type": "code",
   "execution_count": 11,
   "metadata": {},
   "outputs": [
    {
     "name": "stderr",
     "output_type": "stream",
     "text": [
      "/opt/conda/lib/python3.6/site-packages/ipykernel_launcher.py:7: SettingWithCopyWarning: \n",
      "A value is trying to be set on a copy of a slice from a DataFrame.\n",
      "Try using .loc[row_indexer,col_indexer] = value instead\n",
      "\n",
      "See the caveats in the documentation: http://pandas.pydata.org/pandas-docs/stable/indexing.html#indexing-view-versus-copy\n",
      "  import sys\n",
      "/opt/conda/lib/python3.6/site-packages/ipykernel_launcher.py:8: SettingWithCopyWarning: \n",
      "A value is trying to be set on a copy of a slice from a DataFrame.\n",
      "Try using .loc[row_indexer,col_indexer] = value instead\n",
      "\n",
      "See the caveats in the documentation: http://pandas.pydata.org/pandas-docs/stable/indexing.html#indexing-view-versus-copy\n",
      "  \n"
     ]
    }
   ],
   "source": [
    "def findLon(ip):\n",
    "\n",
    "    response = reader.city(ip)\n",
    "    lon = response.location.longitude\n",
    "\n",
    "    return lon\n",
    "df['ipaddr_lons_ip_caller'] = df[\"ipaddr_caller\"].apply(findLon)\n",
    "df['ipaddr_lons_ip_called'] = df[\"ipaddr_called\"].apply(findLon)"
   ]
  },
  {
   "cell_type": "code",
   "execution_count": 12,
   "metadata": {},
   "outputs": [
    {
     "name": "stderr",
     "output_type": "stream",
     "text": [
      "/opt/conda/lib/python3.6/site-packages/ipykernel_launcher.py:7: SettingWithCopyWarning: \n",
      "A value is trying to be set on a copy of a slice from a DataFrame.\n",
      "Try using .loc[row_indexer,col_indexer] = value instead\n",
      "\n",
      "See the caveats in the documentation: http://pandas.pydata.org/pandas-docs/stable/indexing.html#indexing-view-versus-copy\n",
      "  import sys\n",
      "/opt/conda/lib/python3.6/site-packages/ipykernel_launcher.py:8: SettingWithCopyWarning: \n",
      "A value is trying to be set on a copy of a slice from a DataFrame.\n",
      "Try using .loc[row_indexer,col_indexer] = value instead\n",
      "\n",
      "See the caveats in the documentation: http://pandas.pydata.org/pandas-docs/stable/indexing.html#indexing-view-versus-copy\n",
      "  \n"
     ]
    }
   ],
   "source": [
    "def getCity(ip):\n",
    "    response = reader.city(str(ip))\n",
    "    city = response.city.name\n",
    "\n",
    "    return city\n",
    "\n",
    "df['caller_city_asn'] = df['ipaddr_caller'].apply(getCity)\n",
    "df['called_city_asn'] = df['ipaddr_called'].apply(getCity)\n"
   ]
  },
  {
   "cell_type": "code",
   "execution_count": 14,
   "metadata": {},
   "outputs": [],
   "source": [
    "df.to_csv('10k-LOCN-CITY-13-06-2018.csv')"
   ]
  },
  {
   "cell_type": "code",
   "execution_count": 15,
   "metadata": {},
   "outputs": [
    {
     "data": {
      "text/plain": [
       "0       Mississauga\n",
       "1       Mississauga\n",
       "2           Toronto\n",
       "3           Toronto\n",
       "4       Mississauga\n",
       "5       Mississauga\n",
       "6           Toronto\n",
       "7           Toronto\n",
       "8           Toronto\n",
       "9           Toronto\n",
       "10           Surrey\n",
       "11           Surrey\n",
       "14      Mississauga\n",
       "15      Mississauga\n",
       "16      Mississauga\n",
       "17      Mississauga\n",
       "18          Toronto\n",
       "19          Toronto\n",
       "20          Toronto\n",
       "21          Toronto\n",
       "22          Toronto\n",
       "23          Toronto\n",
       "24          Toronto\n",
       "25          Toronto\n",
       "26          Toronto\n",
       "27          Toronto\n",
       "28          Toronto\n",
       "29          Toronto\n",
       "30          Toronto\n",
       "31          Toronto\n",
       "           ...     \n",
       "9932         Easton\n",
       "9933         Easton\n",
       "9935       Boardman\n",
       "9936       Boardman\n",
       "9937       Boardman\n",
       "9938       Boardman\n",
       "9939       Boardman\n",
       "9940       Boardman\n",
       "9942       Boardman\n",
       "9943       Boardman\n",
       "9944       Boardman\n",
       "9945       Boardman\n",
       "9962           None\n",
       "9963           None\n",
       "9964           None\n",
       "9965           None\n",
       "9966         Easton\n",
       "9970           None\n",
       "9971           None\n",
       "9972           None\n",
       "9973           None\n",
       "9982           None\n",
       "9983           None\n",
       "9984           None\n",
       "9985           None\n",
       "9986         Easton\n",
       "9987           None\n",
       "9992           None\n",
       "9997           None\n",
       "9998           None\n",
       "Name: caller_city_asn, Length: 6229, dtype: object"
      ]
     },
     "execution_count": 15,
     "metadata": {},
     "output_type": "execute_result"
    }
   ],
   "source": [
    "df['caller_city_asn']"
   ]
  },
  {
   "cell_type": "code",
   "execution_count": 51,
   "metadata": {},
   "outputs": [
    {
     "data": {
      "text/plain": [
       "(2952, 151)"
      ]
     },
     "execution_count": 51,
     "metadata": {},
     "output_type": "execute_result"
    }
   ],
   "source": [
    "filter_na_1 = df['caller_city_asn'].fillna('Delete me') != 'Delete me'\n",
    "filter_na_1\n",
    "df_1 = df[filter_na_1]\n",
    "\n",
    "filter_na_2 = df['called_city_asn'].fillna('Delete me') != 'Delete me'\n",
    "filter_na_2\n",
    "dff = df[filter_na_2]\n",
    "\n",
    "dff.shape"
   ]
  },
  {
   "cell_type": "code",
   "execution_count": 60,
   "metadata": {},
   "outputs": [],
   "source": [
    "dff.to_csv('10k-LOCN-CITY-CLEAN-13-06-2018.csv')"
   ]
  },
  {
   "cell_type": "code",
   "execution_count": 53,
   "metadata": {},
   "outputs": [
    {
     "name": "stderr",
     "output_type": "stream",
     "text": [
      "/opt/conda/lib/python3.6/site-packages/ipykernel_launcher.py:2: UserWarning: Boolean Series key will be reindexed to match DataFrame index.\n",
      "  \n"
     ]
    },
    {
     "data": {
      "text/plain": [
       "(2952, 151)"
      ]
     },
     "execution_count": 53,
     "metadata": {},
     "output_type": "execute_result"
    }
   ],
   "source": [
    "filter_3 = df['caller_city_asn'] != df['called_city_asn']\n",
    "df_no_copies = dff[filter_3]\n",
    "df_no_copies.shape"
   ]
  },
  {
   "cell_type": "code",
   "execution_count": 58,
   "metadata": {},
   "outputs": [],
   "source": [
    "d_final = df_no_copies.drop_duplicates(subset=('caller_city_asn','called_city_asn'), keep='first')"
   ]
  },
  {
   "cell_type": "code",
   "execution_count": 59,
   "metadata": {},
   "outputs": [
    {
     "data": {
      "text/plain": [
       "(66, 151)"
      ]
     },
     "execution_count": 59,
     "metadata": {},
     "output_type": "execute_result"
    }
   ],
   "source": [
    "d_final.shape"
   ]
  },
  {
   "cell_type": "code",
   "execution_count": 61,
   "metadata": {},
   "outputs": [],
   "source": [
    "d_final.to_csv('10k-complete.csv')"
   ]
  },
  {
   "cell_type": "code",
   "execution_count": null,
   "metadata": {},
   "outputs": [],
   "source": []
  }
 ],
 "metadata": {
  "kernelspec": {
   "display_name": "Python 3",
   "language": "python",
   "name": "python3"
  },
  "language_info": {
   "codemirror_mode": {
    "name": "ipython",
    "version": 3
   },
   "file_extension": ".py",
   "mimetype": "text/x-python",
   "name": "python",
   "nbconvert_exporter": "python",
   "pygments_lexer": "ipython3",
   "version": "3.6.5"
  }
 },
 "nbformat": 4,
 "nbformat_minor": 2
}
